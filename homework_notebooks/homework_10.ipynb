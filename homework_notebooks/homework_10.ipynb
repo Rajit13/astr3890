{
 "cells": [
  {
   "cell_type": "markdown",
   "metadata": {},
   "source": [
    "#### ASTR 3890 - Selected Topics: Data Science for Large Astronomical Surveys (Spring 2022)\n",
    "***N. Hernitschek***\n",
    "___\n",
    "\n",
    "# Homework 10\n",
    "### Due: Monday, Apr 11th at 11.00am CST\n",
    "\n",
    "The completed lecture notebook must also be submitted by 11:00am Central Time on Apr 11th.\n",
    "\n",
    "---"
   ]
  },
  {
   "cell_type": "markdown",
   "metadata": {},
   "source": [
    "## Problem 1\n",
    "\n",
    "**Support Vector Machine**\n",
    "\n",
    "scikit-learn has the benefit of using a common interface for most of its machine learning methods. This makes it easier to try out different methods without changing too much code.\n",
    "\n",
    "Starting with what we saw in the `lecture_10.ipynb` notebook and the code snipplet below, use `sklearn.svm.SVC` to predict what type of iris has a 3cm x 5cm sepal and 4cm x 2cm petal. Don't forget the model validation.\n"
   ]
  },
  {
   "cell_type": "code",
   "execution_count": null,
   "metadata": {},
   "outputs": [],
   "source": [
    "\n",
    "from sklearn.svm import SVC\n",
    "iris = datasets.load_iris()\n",
    "X, y = iris.data, iris.target\n",
    "Xtest = np.array([[3,5,4,2],])\n",
    "\n",
    "model = ____() # fill that in\n",
    "model.fit(____,____) # fill that in\n",
    "result = ____.____(____) # fill that in\n",
    "print(iris.target_names[result]) # fill that in\n",
    "\n"
   ]
  },
  {
   "cell_type": "markdown",
   "metadata": {},
   "source": [
    "### Solution"
   ]
  },
  {
   "cell_type": "markdown",
   "metadata": {},
   "source": [
    "\n",
    "\n"
   ]
  }
 ],
 "metadata": {
  "anaconda-cloud": {},
  "kernelspec": {
   "display_name": "Python 3",
   "language": "python",
   "name": "python3"
  },
  "language_info": {
   "codemirror_mode": {
    "name": "ipython",
    "version": 3
   },
   "file_extension": ".py",
   "mimetype": "text/x-python",
   "name": "python",
   "nbconvert_exporter": "python",
   "pygments_lexer": "ipython3",
   "version": "3.8.10"
  }
 },
 "nbformat": 4,
 "nbformat_minor": 2
}
