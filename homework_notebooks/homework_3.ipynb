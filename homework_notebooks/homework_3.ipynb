{
 "cells": [
  {
   "cell_type": "markdown",
   "metadata": {},
   "source": [
    "### ASTR 3890 - Selected Topics: Data Science for Large Astronomical Surveys (Spring 2022)\n",
    "***N. Hernitschek***\n",
    "___\n",
    "\n",
    "# Homework 3\n",
    "### Due: Monday, Feb 14th at 11.00am CST\n",
    "\n",
    "The completed lecture notebook must also be submitted by 11:00am Central Time on Feb 14th.\n",
    "\n",
    "---"
   ]
  },
  {
   "cell_type": "markdown",
   "metadata": {},
   "source": [
    "## Problem 1\n",
    "\n",
    "Consider a family with two children. Assume that the probability of females and males being born is equal, i.e. $p(F)=0.5$ and $p(M)=0.5$. Remember that \"given\" means your calculation is conditioned on some already fixed data or outcome. \n",
    "\n",
    "1) What is the probability of one male and one female **GIVEN** that the first child is male. \n",
    "\n",
    "2) What is the probability of two females **GIVEN** that at least one child is female.\n",
    "\n",
    "3) What is the probability of two females **GIVEN** that the older child is female.\n",
    "\n",
    "You will find it easiest to answer these questions by sketching a \"tree diagram\" to visualize the options for the oldest child, and the branching options for the youngest child. \n",
    "\n",
    "Either write your solution as Markdown/Latex below, or paste in a scanned image of your handwritten solution."
   ]
  },
  {
   "cell_type": "markdown",
   "metadata": {},
   "source": [
    "### Solution"
   ]
  },
  {
   "cell_type": "markdown",
   "metadata": {},
   "source": []
  },
  {
   "cell_type": "markdown",
   "metadata": {},
   "source": [
    "## Problem 2\n",
    "\n",
    "The data in hw3_populations.txt (source: scipy-lectures.org) describes the populations of hares and lynxes (and carrots) in northern Canada during 20 years:\n",
    "\n",
    "\n",
    "create a Python script to\n",
    "\n",
    "1. plot hw3_populations.txt (using matlab)\n",
    "\n",
    "\n",
    "2. calculate and output:\n",
    "\n",
    "    a) The mean, median and std of the populations of each species for the years in the period.\n",
    "    \n",
    "    b) The year each species had the largest population.\n",
    "    \n",
    "    c) The species that has the largest population for each year. (Hint: argsort & fancy indexing of np.array(['H', 'L', 'C']))\n",
    "    \n",
    "    d) The years were any of the populations is above 50000. (Hint: comparisons and np.any)\n",
    "    \n",
    "    e) The top 2 years for each species when they had the lowest populations. (Hint: argsort, fancy indexing)\n",
    "    \n",
    "    f) Compare (plot) the change in hare population (see help(np.gradient)) and the number of lynxes. Check correlation (see help(np.corrcoef)).\n",
    "\n"
   ]
  },
  {
   "cell_type": "markdown",
   "metadata": {},
   "source": [
    "### Solution\n",
    "\n"
   ]
  },
  {
   "cell_type": "code",
   "execution_count": 44,
   "metadata": {
    "scrolled": true
   },
   "outputs": [
    {
     "data": {
      "text/plain": [
       "<matplotlib.legend.Legend at 0x7fc2e0052df0>"
      ]
     },
     "execution_count": 44,
     "metadata": {},
     "output_type": "execute_result"
    },
    {
     "data": {
      "image/png": "[encoded data removed]",
      "text/plain": [
       "<Figure size 432x288 with 1 Axes>"
      ]
     },
     "metadata": {
      "needs_background": "light"
     },
     "output_type": "display_data"
    }
   ],
   "source": [
    "import numpy as np\n",
    "from matplotlib import pyplot as plt\n",
    "\n",
    "data = np.loadtxt('hw3_populations.txt')\n",
    "year, hares, lynxes, carrots = data.T \n",
    "years = data[:, 0]\n",
    "populations = data[:, 1:]\n",
    "\n",
    "plt.axes([0.2, 0.1, 0.5, 0.8])\n",
    "plt.plot(year, hares, year, lynxes, year, carrots)\n",
    "plt.legend(('Hare', 'Lynx', 'Carrot'), loc=(1.05, 0.5))"
   ]
  },
  {
   "cell_type": "code",
   "execution_count": 40,
   "metadata": {},
   "outputs": [
    {
     "name": "stdout",
     "output_type": "stream",
     "text": [
      "Mean of hare is 34080\n",
      "Mean of lynx is 20166\n",
      "Mean of carrot is 42400\n",
      "\n",
      "Median of hare is 25400\n",
      "Median of lynx is 12300\n",
      "Median of carrot is 41800\n",
      "\n",
      "Standard deviation of hare is 20897\n",
      "Standard deviation of lynx is 16254\n",
      "Standard deviation of carrot is 3322\n"
     ]
    }
   ],
   "source": [
    "hare = []\n",
    "lynx = []\n",
    "carrot = []\n",
    "\n",
    "for lst in populations:\n",
    "    hare.append(lst[0])\n",
    "    lynx.append(lst[1])\n",
    "    carrot.append(lst[2])\n",
    "\n",
    "hare_mean = np.mean(hare)\n",
    "print('Mean of hare is', int(hare_mean))\n",
    "\n",
    "lynx_mean = np.mean(lynx)\n",
    "print('Mean of lynx is', int(lynx_mean))\n",
    "\n",
    "carrot_mean = np.mean(carrot)\n",
    "print('Mean of carrot is', int(carrot_mean))\n",
    "\n",
    "print()\n",
    "\n",
    "hare_median = np.median(hare)\n",
    "print('Median of hare is', int(hare_median))\n",
    "\n",
    "lynx_median = np.median(lynx)\n",
    "print('Median of lynx is', int(lynx_median))\n",
    "\n",
    "carrot_median = np.median(carrot)\n",
    "print('Median of carrot is', int(carrot_median))\n",
    "\n",
    "print()\n",
    "\n",
    "hare_sd = np.std(hare)\n",
    "print('Standard deviation of hare is', int(hare_sd))\n",
    "\n",
    "lynx_sd = np.std(lynx)\n",
    "print('Standard deviation of lynx is', int(lynx_sd))\n",
    "\n",
    "carrot_sd = np.std(carrot)\n",
    "print('Standard deviation of carrot is', int(carrot_sd))"
   ]
  },
  {
   "cell_type": "code",
   "execution_count": 43,
   "metadata": {},
   "outputs": [
    {
     "name": "stdout",
     "output_type": "stream",
     "text": [
      "Hare has largest population in 1903\n",
      "Lynx has largest population in 1904\n",
      "Carrot has largest population in 1900\n"
     ]
    }
   ],
   "source": [
    "hare_position = hare.index(max(hare))\n",
    "hare_year = years[hare_position]\n",
    "print('Hare has largest population in', int(hare_year))\n",
    "\n",
    "lynx_position = lynx.index(max(lynx))\n",
    "lynx_year = years[lynx_position]\n",
    "print('Lynx has largest population in', int(lynx_year))\n",
    "\n",
    "carrot_position = carrot.index(max(carrot))\n",
    "carrot_year = years[carrot_position]\n",
    "print('Carrot has largest population in', int(carrot_year))"
   ]
  },
  {
   "cell_type": "code",
   "execution_count": 53,
   "metadata": {},
   "outputs": [
    {
     "name": "stdout",
     "output_type": "stream",
     "text": [
      "1900: Carrot\n",
      "1901: Carrot\n",
      "1902: Hare\n",
      "1903: Hare\n",
      "1904: Lynx\n",
      "1905: Lynx\n",
      "1906: Carrot\n",
      "1907: Carrot\n",
      "1908: Carrot\n",
      "1909: Carrot\n",
      "1910: Carrot\n",
      "1911: Carrot\n",
      "1912: Hare\n",
      "1913: Hare\n",
      "1914: Hare\n",
      "1915: Lynx\n",
      "1916: Carrot\n",
      "1917: Carrot\n",
      "1918: Carrot\n",
      "1919: Carrot\n",
      "1920: Carrot\n"
     ]
    }
   ],
   "source": [
    "species_lst = ['Hare', 'Lynx', 'Carrot']\n",
    "max_lst = []\n",
    "max_species = []\n",
    "n = 1900\n",
    "\n",
    "sorted_lst = np.argsort(populations)\n",
    "for lst in sorted_lst:\n",
    "    max_lst.append(lst[2])\n",
    "\n",
    "for num in max_lst:\n",
    "    max_species.append(species_lst[num])\n",
    "\n",
    "for i in range(len(max_species)):\n",
    "    print(f'{n}: {max_species[i]}')\n",
    "    n += 1  "
   ]
  },
  {
   "cell_type": "code",
   "execution_count": 84,
   "metadata": {},
   "outputs": [
    {
     "name": "stdout",
     "output_type": "stream",
     "text": [
      "1902\n",
      "1903\n",
      "1904\n",
      "1912\n",
      "1913\n",
      "1914\n",
      "1915\n",
      "The above years have any of the populations above 50000\n"
     ]
    }
   ],
   "source": [
    "for i in range(len(populations)):\n",
    "    if np.any(populations[i] > 50000):\n",
    "        print(int(years[i]))\n",
    "print('The above years have any of the populations above 50000')"
   ]
  },
  {
   "cell_type": "code",
   "execution_count": 98,
   "metadata": {},
   "outputs": [
    {
     "name": "stdout",
     "output_type": "stream",
     "text": [
      "Hare has its lowest population in 1917\n",
      "Hare has its second lowest population in 1916\n",
      "\n",
      "Lynx has its lowest population in 1900\n",
      "Lynx has its second lowest population in 1901\n",
      "\n",
      "Carrot has its lowest population in 1916\n",
      "Carrot has its second lowest population in 1903\n"
     ]
    }
   ],
   "source": [
    "hare_lst = np.argsort(hare)\n",
    "print('Hare has its lowest population in', int(years[int(hare_lst[0])]))\n",
    "print('Hare has its second lowest population in', int(years[int(hare_lst[1])]))\n",
    "        \n",
    "print()\n",
    "\n",
    "lynx_lst = np.argsort(lynx)\n",
    "print('Lynx has its lowest population in', int(years[int(lynx_lst[0])]))\n",
    "print('Lynx has its second lowest population in', int(years[int(lynx_lst[1])]))\n",
    "\n",
    "print()\n",
    "\n",
    "carrot_lst = np.argsort(carrot)\n",
    "print('Carrot has its lowest population in', int(years[int(carrot_lst[0])]))\n",
    "print('Carrot has its second lowest population in', int(years[int(carrot_lst[1])]))"
   ]
  },
  {
   "cell_type": "code",
   "execution_count": 116,
   "metadata": {},
   "outputs": [
    {
     "name": "stdout",
     "output_type": "stream",
     "text": [
      "Correlation coefficients = \n",
      "[[ 1.         -0.05136253]\n",
      " [-0.05136253  1.        ]]\n"
     ]
    },
    {
     "data": {
      "image/png": "[encoded data removed]",
      "text/plain": [
       "<Figure size 432x288 with 1 Axes>"
      ]
     },
     "metadata": {
      "needs_background": "light"
     },
     "output_type": "display_data"
    }
   ],
   "source": [
    "plt.axes([0.2, 0.1, 0.5, 0.8])\n",
    "\n",
    "a = np.gradient(hare)\n",
    "plt.plot(year, a)\n",
    "\n",
    "b = np.gradient(lynx)\n",
    "plt.plot(year, b)\n",
    "\n",
    "plt.legend(('Hare', 'Lynx'), loc=(1.05, 0.5))\n",
    "print('Correlation coefficients = ')\n",
    "print(np.corrcoef(a, b))"
   ]
  }
 ],
 "metadata": {
  "anaconda-cloud": {},
  "kernelspec": {
   "display_name": "Python 3 (ipykernel)",
   "language": "python",
   "name": "python3"
  },
  "language_info": {
   "codemirror_mode": {
    "name": "ipython",
    "version": 3
   },
   "file_extension": ".py",
   "mimetype": "text/x-python",
   "name": "python",
   "nbconvert_exporter": "python",
   "pygments_lexer": "ipython3",
   "version": "3.9.7"
  }
 },
 "nbformat": 4,
 "nbformat_minor": 2
}
