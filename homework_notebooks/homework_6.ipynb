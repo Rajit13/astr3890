{
 "cells": [
  {
   "cell_type": "markdown",
   "metadata": {},
   "source": [
    "#### ASTR 3890 - Selected Topics: Data Science for Large Astronomical Surveys (Spring 2022)\n",
    "***N. Hernitschek***\n",
    "___\n",
    "\n",
    "# Homework 6\n",
    "### Due: Monday, Mar 14th at 11.00am CST\n",
    "\n",
    "The completed lecture notebook must also be submitted by 11:00am Central Time on March 14th (after Spring Break).\n",
    "\n",
    "---"
   ]
  },
  {
   "cell_type": "markdown",
   "metadata": {},
   "source": [
    "## Problem 1\n",
    "\n",
    "**The Leavitt Law**\n",
    "\n",
    "Cepheid variable stars in galaxies follow a linear relation between their log periods, log metallicity, and apparent magnitude (the Leavitt law):\n",
    "\n",
    "$$m_i^W = zp_{W,N4258} + b_W \\log P_i + Z_w \\Delta \\log (O/H)_i \\;\\;\\; (1)$$\n",
    "\n",
    "where \n",
    "$$m^W = m_H - 0.39(V-I)$$\n",
    "\n",
    "and is called the \"Wesenheit magnitude\".\n",
    "\n",
    "The index $i$ here denotes the individual Cepheids in a sample.\n",
    "\n",
    "\n",
    "Download table 4 from Riess et al. (2016):\n",
    "\n",
    "https://ui.adsabs.harvard.edu/abs/2016yCat..18260056R/abstract\n",
    "\n",
    "You will find the tables here:\n",
    "https://cdsarc.cds.unistra.fr/viz-bin/cat/J/ApJ/826/56#/browse\n",
    "Table descriptions are in the readme file.\n",
    "\n",
    "Use the data for Cepheids in NGC 4258 from Table 4. Assuming that there is no intrinsic scatter in the Leavitt law, the parameters\n",
    "of Equation (1) can be determined through ordinary least squares. Determine the best-fit\n",
    "parameters $zp_{W,N4258}$, $b_W$, and $Z_w$ and their Gaussian covariance matrix. Plot the data $m^W_i$ vs. $\\log_{10} P_i$ and overlay the best fit model (evaluated at the mean metallicity of the sample).\n",
    "\n",
    "\n",
    "\n",
    "\n",
    "\n",
    "\n"
   ]
  },
  {
   "cell_type": "markdown",
   "metadata": {},
   "source": [
    "### Solution"
   ]
  },
  {
   "cell_type": "markdown",
   "metadata": {},
   "source": [
    "## Problem 2\n",
    "\n",
    "**Posterior probability distribution of binomial distribution**\n",
    "\n",
    "Given a set of $N$ measurements, $x_i$, drawn from a binomial distribution described with parameter $b$, we seek the posterior probability distribution $p(b|x_i)$.\n",
    "\n",
    "For small $N$, the proper procedure is as follows. Assuming that the prior for $b$ is at in the range 0-1, the posterior probability for $b$ is\n",
    "\n",
    "$$p(b|k,N) = C b^k (1-b)^{N-k}$$\n",
    "\n",
    "where $k$ is now the actual observed number of successes in a data set of $N$ values, and $C$ is a normalization factor with can be determined from the condition\n",
    "\n",
    "$$\\int_0 ^1 p(b|k,N)db=1.$$\n",
    "\n",
    "The maximum posterior occurs at $b_0 = k/N$.\n",
    "\n",
    "Write code for calculating the posterior distribution.\n",
    "Vary the value $b$ and draw the resulted posterior probability distribution from our data set. \n",
    "\n",
    "In comparison, also calculate a Gaussian distribution from the same data set.\n"
   ]
  },
  {
   "cell_type": "markdown",
   "metadata": {},
   "source": [
    "### Solution\n",
    "\n"
   ]
  },
  {
   "cell_type": "code",
   "execution_count": null,
   "metadata": {},
   "outputs": [],
   "source": []
  }
 ],
 "metadata": {
  "anaconda-cloud": {},
  "kernelspec": {
   "display_name": "Python 3",
   "language": "python",
   "name": "python3"
  },
  "language_info": {
   "codemirror_mode": {
    "name": "ipython",
    "version": 3
   },
   "file_extension": ".py",
   "mimetype": "text/x-python",
   "name": "python",
   "nbconvert_exporter": "python",
   "pygments_lexer": "ipython3",
   "version": "3.8.10"
  }
 },
 "nbformat": 4,
 "nbformat_minor": 2
}
