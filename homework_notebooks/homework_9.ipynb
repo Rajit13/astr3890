{
 "cells": [
  {
   "cell_type": "markdown",
   "metadata": {},
   "source": [
    "#### ASTR 3890 - Selected Topics: Data Science for Large Astronomical Surveys (Spring 2022)\n",
    "***N. Hernitschek***\n",
    "___\n",
    "\n",
    "# Homework 9\n",
    "### Due: Monday, Apr 4th at 11.00am CST\n",
    "\n",
    "The completed lecture notebook must also be submitted by 11:00am Central Time on Apr 4th.\n",
    "\n",
    "---"
   ]
  },
  {
   "cell_type": "markdown",
   "metadata": {},
   "source": [
    "## Problem 1\n",
    "\n",
    "**Cross-Correlation for computing a time lag**\n",
    "\n",
    "\n",
    "\n",
    "Using the code snipplet below, generate a pair of time series with known time lag.\n",
    "\n",
    "The scipy.signal function is used to generate a two-unit impulse function. We then apply a low pass filter of order 4 and with a center frequency of 0.2 to smoothen the edges. (Note that the results will be the same even without the filter).\n",
    "\n",
    "\n",
    "a) plot the time series\n",
    "\n",
    "b) compute the lag by computing the time-domain cross-correlation between two-time series.\n"
   ]
  },
  {
   "cell_type": "code",
   "execution_count": null,
   "metadata": {},
   "outputs": [],
   "source": [
    "# Delta Function\n",
    "length = 100\n",
    "amp1, amp2 = 1, 1\n",
    "x = np.arange(0, length)\n",
    "to = 10\n",
    "timeshift = 50\n",
    "t1 = to+timeshift\n",
    "series1 = signal.unit_impulse(length, idx=to)\n",
    "series2 = signal.unit_impulse(length, idx=t1)\n",
    "\n",
    "# low pass filter to smoothen the edges (just to make the signal look pretty)\n",
    "b, a = signal.butter(4, 0.2)\n",
    "series1 = signal.lfilter(b, a, series1)\n",
    "series2 = signal.lfilter(b, a, series2)"
   ]
  },
  {
   "cell_type": "markdown",
   "metadata": {},
   "source": [
    "### Solution"
   ]
  },
  {
   "cell_type": "markdown",
   "metadata": {},
   "source": [
    "\n",
    "\n"
   ]
  }
 ],
 "metadata": {
  "anaconda-cloud": {},
  "kernelspec": {
   "display_name": "Python 3",
   "language": "python",
   "name": "python3"
  },
  "language_info": {
   "codemirror_mode": {
    "name": "ipython",
    "version": 3
   },
   "file_extension": ".py",
   "mimetype": "text/x-python",
   "name": "python",
   "nbconvert_exporter": "python",
   "pygments_lexer": "ipython3",
   "version": "3.8.10"
  }
 },
 "nbformat": 4,
 "nbformat_minor": 2
}
