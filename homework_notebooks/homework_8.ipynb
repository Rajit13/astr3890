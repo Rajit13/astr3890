{
 "cells": [
  {
   "cell_type": "markdown",
   "metadata": {},
   "source": [
    "#### ASTR 3890 - Selected Topics: Data Science for Large Astronomical Surveys (Spring 2022)\n",
    "***N. Hernitschek***\n",
    "___\n",
    "\n",
    "# Homework 8\n",
    "### Due: Monday, Mar 28th at 11.00am CST\n",
    "\n",
    "The completed lecture notebook must also be submitted by 11:00am Central Time on March 28th.\n",
    "\n",
    "---"
   ]
  },
  {
   "cell_type": "markdown",
   "metadata": {},
   "source": [
    "## Problem 1\n",
    "\n",
    "**Phased LINEAR light curves**\n",
    "\n",
    "\n",
    "Using the code snipplet below, load LINEAR light curves.\n",
    "\n",
    "\n",
    "Extend the code to:\n",
    "\n",
    "a) plot the light curves\n",
    "\n",
    "b) compute the best period using a Fourier transformation\n",
    "\n",
    "c) plot the phased data and best-fit curves.\n",
    "\n",
    "d) Solve the problem by using Lomb-Scargle Periodograms.\n"
   ]
  },
  {
   "cell_type": "code",
   "execution_count": null,
   "metadata": {},
   "outputs": [],
   "source": [
    "\n",
    "from __future__ import print_function, division\n",
    "\n",
    "import numpy as np\n",
    "from matplotlib import pyplot as plt\n",
    "\n",
    "from astroML.utils.decorators import pickle_results\n",
    "from astroML.time_series import search_frequencies, lomb_scargle, MultiTermFit\n",
    "from astroML.datasets import fetch_LINEAR_sample\n",
    "\n",
    "#----------------------------------------------------------------------\n",
    "# This function adjusts matplotlib settings for a uniform feel in the textbook.\n",
    "# Note that with usetex=True, fonts are rendered with LaTeX.  This may\n",
    "# result in an error if LaTeX is not installed on your system.  In that case,\n",
    "# you can set usetex to False.\n",
    "if \"setup_text_plots\" not in globals():\n",
    "    from astroML.plotting import setup_text_plots\n",
    "setup_text_plots(fontsize=8, usetex=True)\n",
    "import matplotlib\n",
    "matplotlib.rc('_internal', classic_mode=True)\n",
    "\n",
    "#------------------------------------------------------------\n",
    "# Load the dataset\n",
    "data = fetch_LINEAR_sample()\n",
    "ids = [14752041, 1009459, 10022663, 10025796, 11375941, 18525697]\n",
    "\n",
    "\n",
    "#------------------------------------------------------------\n",
    "# Compute the best frequencies\n",
    "@pickle_results('LINEAR_LS.pkl')\n",
    "def compute_best_frequencies(ids, n_eval=10000, n_retry=5, generalized=True):\n",
    "    results = {}\n",
    "    for i in ids:\n",
    "        t, y, dy = data[i].T\n",
    "        print(\" - computing power for {0} ({1} points)\".format(i, len(t)))\n",
    "        kwargs = dict(generalized=generalized)\n",
    "        omega, power = search_frequencies(t, y, dy, n_eval=n_eval,\n",
    "                                          n_retry=n_retry,\n",
    "                                          LS_kwargs=kwargs)\n",
    "        results[i] = [omega, power]\n",
    "\n",
    "    return results\n",
    "\n",
    "results = compute_best_frequencies(ids, n_eval=10000, n_retry=5)\n"
   ]
  },
  {
   "cell_type": "markdown",
   "metadata": {},
   "source": [
    "### Solution"
   ]
  },
  {
   "cell_type": "markdown",
   "metadata": {},
   "source": [
    "\n",
    "\n"
   ]
  }
 ],
 "metadata": {
  "anaconda-cloud": {},
  "kernelspec": {
   "display_name": "Python 3",
   "language": "python",
   "name": "python3"
  },
  "language_info": {
   "codemirror_mode": {
    "name": "ipython",
    "version": 3
   },
   "file_extension": ".py",
   "mimetype": "text/x-python",
   "name": "python",
   "nbconvert_exporter": "python",
   "pygments_lexer": "ipython3",
   "version": "3.8.10"
  }
 },
 "nbformat": 4,
 "nbformat_minor": 2
}
