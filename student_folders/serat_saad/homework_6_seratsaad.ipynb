{
 "cells": [
  {
   "cell_type": "markdown",
   "metadata": {},
   "source": [
    "#### ASTR 3890 - Selected Topics: Data Science for Large Astronomical Surveys (Spring 2022)\n",
    "***N. Hernitschek***\n",
    "___\n",
    "\n",
    "# Homework 6\n",
    "### Due: Monday, Mar 14th at 11.00am CST\n",
    "\n",
    "The completed lecture notebook must also be submitted by 11:00am Central Time on March 14th (after Spring Break).\n",
    "\n",
    "---"
   ]
  },
  {
   "cell_type": "markdown",
   "metadata": {},
   "source": [
    "## Problem 1\n",
    "\n",
    "**The Leavitt Law**\n",
    "\n",
    "Cepheid variable stars in galaxies follow a linear relation between their log periods, log metallicity, and apparent magnitude (the Leavitt law):\n",
    "\n",
    "$$m_i^W = zp_{W,N4258} + b_W \\log P_i + Z_w \\Delta \\log (O/H)_i \\;\\;\\; (1)$$\n",
    "\n",
    "where \n",
    "$$m^W = m_H - 0.39(V-I)$$\n",
    "\n",
    "and is called the \"Wesenheit magnitude\".\n",
    "\n",
    "The index $i$ here denotes the individual Cepheids in a sample.\n",
    "\n",
    "\n",
    "Download table 4 from Riess et al. (2016):\n",
    "\n",
    "https://ui.adsabs.harvard.edu/abs/2016yCat..18260056R/abstract\n",
    "\n",
    "You will find the tables here:\n",
    "https://cdsarc.cds.unistra.fr/viz-bin/cat/J/ApJ/826/56#/browse\n",
    "Table descriptions are in the readme file.\n",
    "\n",
    "Use the data for Cepheids in NGC 4258 from Table 4. Assuming that there is no intrinsic scatter in the Leavitt law, the parameters\n",
    "of Equation (1) can be determined through ordinary least squares. Determine the best-fit\n",
    "parameters $zp_{W,N4258}$, $b_W$, and $Z_w$ and their Gaussian covariance matrix. Plot the data $m^W_i$ vs. $\\log_{10} P_i$ and overlay the best fit model (evaluated at the mean metallicity of the sample).\n",
    "\n",
    "\n",
    "\n",
    "\n",
    "\n",
    "\n"
   ]
  },
  {
   "cell_type": "markdown",
   "metadata": {},
   "source": [
    "### Solution"
   ]
  },
  {
   "cell_type": "code",
   "execution_count": 18,
   "metadata": {},
   "outputs": [
    {
     "name": "stdout",
     "output_type": "stream",
     "text": [
      "Parameters (𝑧𝑝𝑊,𝑁4258, 𝑏𝑊, and 𝑍𝑤): \n",
      " [23.75988994  3.29303047 -0.59523081]\n",
      "Covariance matrix: \n",
      " [[ 9.01640447 -0.12791561 -0.99250138]\n",
      " [-0.12791561  0.02722505  0.01036107]\n",
      " [-0.99250138  0.01036107  0.10983245]]\n"
     ]
    },
    {
     "data": {
      "text/plain": [
       "<matplotlib.legend.Legend at 0x21aef291070>"
      ]
     },
     "execution_count": 18,
     "metadata": {},
     "output_type": "execute_result"
    },
    {
     "data": {
      "image/png": "[encoded data removed]",
      "text/plain": [
       "<Figure size 432x288 with 1 Axes>"
      ]
     },
     "metadata": {
      "needs_background": "light"
     },
     "output_type": "display_data"
    }
   ],
   "source": [
    "# Importing necessary libraries\n",
    "import numpy as np\n",
    "import pandas as pd\n",
    "import math\n",
    "from scipy.optimize import curve_fit\n",
    "import scipy\n",
    "import matplotlib.pyplot as plt\n",
    "from scipy import stats\n",
    "from scipy.stats import norm\n",
    "\n",
    "\n",
    "#Defining function to be used to fitting parameters\n",
    "def leavitt_law(x, zp, b, zw):\n",
    "    pwi = x[0]\n",
    "    OH = x[1]\n",
    "    return zp + b * pwi + zw * OH\n",
    "\n",
    "# Getting and reading data\n",
    "link = 'https://cdsarc.cds.unistra.fr/ftp/J/ApJ/826/56/table4.dat'\n",
    "columns = [\"Object\", \"Right Ascension\", \"Declination\", \"ID\", \"Per\", \"V-I\", \"F160W\", \"sigTot\", \"del log(O/H)\"]\n",
    "data = pd.read_table(link, names = columns, delim_whitespace=True)\n",
    "data[\"logPi\"]=data[\"Per\"].apply(lambda x: math.log10(x))\n",
    "\n",
    "y = data[\"F160W\"].values\n",
    "x = [data[\"logPi\"].values, data[\"del log(O/H)\"].values]\n",
    "m, n = curve_fit(leavitt_law, x, y)\n",
    "\n",
    "print(\"Parameters (𝑧𝑝𝑊,𝑁4258, 𝑏𝑊, and 𝑍𝑤): \\n\", m)\n",
    "print(\"Covariance matrix: \\n\",n)\n",
    "\n",
    "#Finding magnitude values at mean metallicity\n",
    "mean_met = data[\"del log(O/H)\"].mean()\n",
    "zp = m[0]\n",
    "b = m[1]\n",
    "zw = m[2]\n",
    "data[\"predicted_mean\"] =data[\"logPi\"].apply(lambda logPi: leavitt_law([logPi, mean_met], zp, b, zw))\n",
    "\n",
    "#Plotting actual wesenheit and best fit(predicted wesenheit)\n",
    "x = data[\"logPi\"]\n",
    "y = data[\"F160W\"]\n",
    "plt.scatter(x,y)\n",
    "y_pred_mean = data[\"predicted_mean\"]                                              \n",
    "plt.scatter(x,y_pred_mean)\n",
    "plt.ylabel(\"$m_{i}^{w}$\")\n",
    "plt.xlabel(\"$log_{10}(p)$\")\n",
    "plt.legend(['Best Fit', 'Actual Wesenheit'])"
   ]
  },
  {
   "cell_type": "markdown",
   "metadata": {},
   "source": [
    "## Problem 2\n",
    "\n",
    "**Posterior probability distribution of binomial distribution**\n",
    "\n",
    "Given a set of $N$ measurements, $x_i$, drawn from a binomial distribution described with parameter $b$, we seek the posterior probability distribution $p(b|x_i)$.\n",
    "\n",
    "When $N$ is large, $b$ and its (presumably Gaussian) uncertainty $\\sigma_b$ can be determined using the equation above. For small $N$, the proper procedure is as follows. Assuming that the prior for $b$ is at in the range 0-1, the posterior probability for $b$ is\n",
    "\n",
    "$$p(b|k,N) = C b^k (1-b)^{N-k}$$\n",
    "\n",
    "where $k$ is now the actual observed number of successes in a data set of $N$ values, and $C$ is a normalization factor with can be determined from the condition\n",
    "\n",
    "$$\\int_0 ^1 p(b|k,N)db=1.$$\n",
    "\n",
    "The maximum posterior occurs at $b_0 = k/N$.\n",
    "\n",
    "Write code for calculating the posterior distribution.\n",
    "Vary the value $b$ and draw the resulted posterior probability distribution from our data set. \n",
    "\n",
    "In comparison, also calculate a Gaussian distribution from the same data set.\n"
   ]
  },
  {
   "cell_type": "markdown",
   "metadata": {},
   "source": [
    "### Solution\n",
    "\n"
   ]
  },
  {
   "cell_type": "code",
   "execution_count": 47,
   "metadata": {},
   "outputs": [
    {
     "name": "stdout",
     "output_type": "stream",
     "text": [
      "Here k is 5 and N is 7\n"
     ]
    },
    {
     "data": {
      "text/plain": [
       "Text(0, 0.5, 'Probability')"
      ]
     },
     "execution_count": 47,
     "metadata": {},
     "output_type": "execute_result"
    },
    {
     "data": {
      "image/png": "[encoded data removed]",
      "text/plain": [
       "<Figure size 432x288 with 1 Axes>"
      ]
     },
     "metadata": {
      "needs_background": "light"
     },
     "output_type": "display_data"
    }
   ],
   "source": [
    "# Importing all the necessary libraries\n",
    "import random\n",
    "import numpy as np\n",
    "from scipy import stats\n",
    "%matplotlib inline\n",
    "import matplotlib.pyplot as plt\n",
    "from scipy.stats import norm\n",
    "\n",
    "\n",
    "\n",
    "# Defining two variables k and N\n",
    "# Giving two random integers for the variables\n",
    "k = 5\n",
    "N = 7\n",
    "print(\"Here k is\", k, \"and N is\", N)\n",
    "\n",
    "# Defining the necessary functions\n",
    "def posterior(b, k, N):\n",
    "    return (b**k)*((1-b)**(N-k))\n",
    "\n",
    "def post_dist(k, N):\n",
    "    list_1 = []\n",
    "    list_2 = np.arange(0,1,0.001)\n",
    "    \n",
    "    for b in list_2:\n",
    "        list_1.append(posterior(b, k, N))\n",
    "        \n",
    "    list_1 = list_1/(sum(list_1)*0.001)\n",
    "    \n",
    "    return list_1, list_2\n",
    "\n",
    "y,x = post_dist(k, N)\n",
    "\n",
    "#Guassian approxmation of PDF\n",
    "def normal_dist(x,mean,sd):\n",
    "    a = 1/(sd*math.sqrt(2*np.pi))\n",
    "    b = np.exp(-0.5*((x-mean)/sd)**2)\n",
    "    return a*b\n",
    "\n",
    "b_0   = k/N\n",
    "p_0 = [b_0,.1]\n",
    "m, n = curve_fit(normal_dist, x, y, p_0)\n",
    "mean = m[0]\n",
    "sd   = m[1]\n",
    "pdf  = stats.norm(mean, sd).pdf(x)\n",
    "\n",
    "\n",
    "\n",
    "plt.plot(x,y)\n",
    "plt.plot(x, pdf)\n",
    "plt.legend(['Posterior Distribution', 'Gaussian Distribution'])\n",
    "plt.xlabel('b')\n",
    "plt.ylabel('Probability')"
   ]
  },
  {
   "cell_type": "code",
   "execution_count": null,
   "metadata": {},
   "outputs": [],
   "source": []
  }
 ],
 "metadata": {
  "anaconda-cloud": {},
  "kernelspec": {
   "display_name": "Python 3 (ipykernel)",
   "language": "python",
   "name": "python3"
  },
  "language_info": {
   "codemirror_mode": {
    "name": "ipython",
    "version": 3
   },
   "file_extension": ".py",
   "mimetype": "text/x-python",
   "name": "python",
   "nbconvert_exporter": "python",
   "pygments_lexer": "ipython3",
   "version": "3.9.7"
  }
 },
 "nbformat": 4,
 "nbformat_minor": 2
}
