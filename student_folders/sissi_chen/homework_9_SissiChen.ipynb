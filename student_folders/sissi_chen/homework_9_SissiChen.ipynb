{
 "cells": [
  {
   "cell_type": "markdown",
   "metadata": {},
   "source": [
    "#### ASTR 3890 - Selected Topics: Data Science for Large Astronomical Surveys (Spring 2022)\n",
    "***N. Hernitschek***\n",
    "___\n",
    "\n",
    "# Homework 9\n",
    "### Due: Monday, Apr 4th at 11.00am CST\n",
    "\n",
    "The completed lecture notebook must also be submitted by 11:00am Central Time on Apr 4th.\n",
    "\n",
    "---"
   ]
  },
  {
   "cell_type": "markdown",
   "metadata": {},
   "source": [
    "## Problem 1\n",
    "\n",
    "**Cross-Correlation for computing a time lag**\n",
    "\n",
    "\n",
    "\n",
    "Using the code snipplet below, generate a pair of time series with known time lag.\n",
    "\n",
    "The scipy.signal function is used to generate a two-unit impulse function. We then apply a low pass filter of order 4 and with a center frequency of 0.2 to smoothen the edges. (Note that the results will be the same even without the filter).\n",
    "\n",
    "\n",
    "a) plot the time series\n",
    "\n",
    "b) compute the lag by computing the time-domain cross-correlation between two-time series.\n"
   ]
  },
  {
   "cell_type": "code",
   "execution_count": 13,
   "metadata": {},
   "outputs": [],
   "source": [
    "import numpy as np\n",
    "from scipy import signal\n",
    "from matplotlib import pyplot as plt\n",
    "\n",
    "# Delta Function\n",
    "length = 100\n",
    "amp1, amp2 = 1, 1\n",
    "x = np.arange(0, length)\n",
    "to = 10\n",
    "timeshift = 50\n",
    "t1 = to+timeshift\n",
    "series1 = signal.unit_impulse(length, idx=to)\n",
    "series2 = signal.unit_impulse(length, idx=t1)\n",
    "\n",
    "# low pass filter to smoothen the edges (just to make the signal look pretty)\n",
    "b, a = signal.butter(4, 0.2)\n",
    "series1 = signal.lfilter(b, a, series1)\n",
    "series2 = signal.lfilter(b, a, series2)"
   ]
  },
  {
   "cell_type": "markdown",
   "metadata": {},
   "source": [
    "### Solution"
   ]
  },
  {
   "cell_type": "markdown",
   "metadata": {},
   "source": [
    "\n",
    "\n"
   ]
  },
  {
   "cell_type": "code",
   "execution_count": 27,
   "metadata": {},
   "outputs": [
    {
     "data": {
      "text/plain": [
       "[<matplotlib.lines.Line2D at 0x7ff1e9874fa0>]"
      ]
     },
     "execution_count": 27,
     "metadata": {},
     "output_type": "execute_result"
    },
    {
     "data": {
      "image/png": "[encoded data removed]",
      "text/plain": [
       "<Figure size 720x432 with 2 Axes>"
      ]
     },
     "metadata": {
      "needs_background": "light"
     },
     "output_type": "display_data"
    }
   ],
   "source": [
    "import numpy as np\n",
    "import matplotlib.pyplot as plt\n",
    "\n",
    "time_series = [series1, series2]\n",
    "fig, ax = plt.subplots(2, 1, figsize=(10, 6), sharex=True)\n",
    "\n",
    "ax[0].plot(time_series[0], color='b', label=time_series[0])\n",
    "ax[1].plot(time_series[1], color='r', label=time_series[1])"
   ]
  },
  {
   "cell_type": "code",
   "execution_count": 33,
   "metadata": {},
   "outputs": [
    {
     "name": "stdout",
     "output_type": "stream",
     "text": [
      "The time-domain cross-correlation between two series is\n",
      "[-0.05160822 -0.05264429 -0.05369906 -0.05477607 -0.05587929 -0.05701256\n",
      " -0.05817853 -0.0593773  -0.06060521 -0.06185453 -0.06311509 -0.06409837\n",
      " -0.06355686 -0.05943442 -0.05058288 -0.03812645 -0.02491473 -0.0139699\n",
      " -0.00722849 -0.00505198 -0.00645237 -0.00973069 -0.01319232 -0.01569168\n",
      " -0.01688698 -0.01719604 -0.01751341 -0.01878269 -0.0215331  -0.02550206\n",
      " -0.02947384 -0.03145134 -0.02921508 -0.02119238 -0.00737281  0.01017288\n",
      "  0.02766469  0.04112914  0.04860142  0.05122951  0.05167646  0.05167809\n",
      "  0.05165485  0.05162253  0.05159431  0.05157754  0.05157348  0.05157901\n",
      "  0.05158914  0.05159913  0.05160594  0.05160854  0.05160756  0.05160453\n",
      "  0.05160109  0.05159843  0.05159713  0.05159712  0.05159797  0.05159913\n",
      "  0.05160013  0.05160072  0.05160085  0.05160064  0.05160026  0.05159989\n",
      "  0.05159964  0.05159954  0.05159958  0.0515997   0.05159984  0.05159994\n",
      "  0.05159999  0.05159999  0.05159996  0.05159991  0.05159987  0.05159984\n",
      "  0.05159984  0.05159985  0.05159986  0.05159988  0.05159989  0.0515999\n",
      "  0.05159989  0.05159989  0.05159988  0.05159988  0.05159987  0.05159987\n",
      "  0.05159987  0.05159988  0.05159988  0.05159988  0.05159988  0.05159988\n",
      "  0.05159988  0.05159988  0.05159988  0.05159988]\n"
     ]
    }
   ],
   "source": [
    "import statsmodels.tsa.stattools\n",
    "\n",
    "\n",
    "correlation = statsmodels.tsa.stattools.ccf(series1, series2)\n",
    "\n",
    "print('The time-domain cross-correlation between two series is')\n",
    "print(correlation)"
   ]
  },
  {
   "cell_type": "code",
   "execution_count": null,
   "metadata": {},
   "outputs": [],
   "source": []
  }
 ],
 "metadata": {
  "anaconda-cloud": {},
  "kernelspec": {
   "display_name": "Python 3 (ipykernel)",
   "language": "python",
   "name": "python3"
  },
  "language_info": {
   "codemirror_mode": {
    "name": "ipython",
    "version": 3
   },
   "file_extension": ".py",
   "mimetype": "text/x-python",
   "name": "python",
   "nbconvert_exporter": "python",
   "pygments_lexer": "ipython3",
   "version": "3.9.7"
  }
 },
 "nbformat": 4,
 "nbformat_minor": 2
}
