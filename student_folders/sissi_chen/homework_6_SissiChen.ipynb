{
 "cells": [
  {
   "cell_type": "markdown",
   "metadata": {},
   "source": [
    "#### ASTR 3890 - Selected Topics: Data Science for Large Astronomical Surveys (Spring 2022)\n",
    "***N. Hernitschek***\n",
    "___\n",
    "\n",
    "# Homework 6\n",
    "### Due: Monday, Mar 14th at 11.00am CST\n",
    "\n",
    "The completed lecture notebook must also be submitted by 11:00am Central Time on March 14th (after Spring Break).\n",
    "\n",
    "---"
   ]
  },
  {
   "cell_type": "markdown",
   "metadata": {},
   "source": [
    "## Problem 1\n",
    "\n",
    "**The Leavitt Law**\n",
    "\n",
    "Cepheid variable stars in galaxies follow a linear relation between their log periods, log metallicity, and apparent magnitude (the Leavitt law):\n",
    "\n",
    "$$m_i^W = zp_{W,N4258} + b_W \\log P_i + Z_w \\Delta \\log (O/H)_i \\;\\;\\; (1)$$\n",
    "\n",
    "where \n",
    "$$m^W = m_H - 0.39(V-I)$$\n",
    "\n",
    "and is called the \"Wesenheit magnitude\".\n",
    "\n",
    "The index $i$ here denotes the individual Cepheids in a sample.\n",
    "\n",
    "\n",
    "Download table 4 from Riess et al. (2016):\n",
    "\n",
    "https://ui.adsabs.harvard.edu/abs/2016yCat..18260056R/abstract\n",
    "\n",
    "You will find the tables here:\n",
    "https://cdsarc.cds.unistra.fr/viz-bin/cat/J/ApJ/826/56#/browse\n",
    "Table descriptions are in the readme file.\n",
    "\n",
    "Use the data for Cepheids in NGC 4258 from Table 4. Assuming that there is no intrinsic scatter in the Leavitt law, the parameters\n",
    "of Equation (1) can be determined through ordinary least squares. Determine the best-fit\n",
    "parameters $zp_{W,N4258}$, $b_W$, and $Z_w$ and their Gaussian covariance matrix. Plot the data $m^W_i$ vs. $\\log_{10} P_i$ and overlay the best fit model (evaluated at the mean metallicity of the sample).\n",
    "\n",
    "\n",
    "\n",
    "\n",
    "\n",
    "\n"
   ]
  },
  {
   "cell_type": "markdown",
   "metadata": {},
   "source": [
    "### Solution"
   ]
  },
  {
   "cell_type": "code",
   "execution_count": 79,
   "metadata": {},
   "outputs": [
    {
     "name": "stdout",
     "output_type": "stream",
     "text": [
      "Table:\n",
      "       Gal      RAdeg     DEdeg        ID     Per   V-I  F160W  sigTot  [O/H]\n",
      "0     M101  210.87979  54.33376    115287  17.950  0.96  22.47    0.30  9.134\n",
      "1     M101  210.89127  54.35620    136682   5.358  1.06  24.41    0.57  9.118\n",
      "2     M101  210.89227  54.36125    148312  11.860  1.07  22.94    0.32  9.113\n",
      "3     M101  210.89351  54.36826    164932  14.920  1.13  23.03    0.32  9.105\n",
      "4     M101  210.87982  54.33565    121146  11.860  0.96  23.14    0.45  9.136\n",
      "...    ...        ...       ...       ...     ...   ...    ...     ...    ...\n",
      "1481   M31   10.92917  41.24755  M31_ceph  43.050  1.78  16.82    0.15  8.900\n",
      "1482   M31   11.69675  42.08064  M31_ceph  43.740  1.50  16.97    0.15  8.900\n",
      "1483   M31   11.29560  41.60410  M31_ceph  48.450  2.49  17.44    0.15  8.900\n",
      "1484   M31   10.91809  41.18565  M31_ceph  56.240  2.07  17.03    0.15  8.900\n",
      "1485   M31   11.06418  41.56925  M31_ceph  78.000  1.82  16.05    0.15  8.900\n",
      "\n",
      "[1486 rows x 9 columns]\n",
      "\n",
      "[zp, bw, zw]: [28.88229831  0.04497528 -0.81995815]\n",
      "\n",
      "Covariance matrix:\n",
      "[[ 9.87867182e+00 -2.23949086e-03 -1.10134653e+00]\n",
      " [-2.23949086e-03  9.73180425e-06  2.22549488e-04]\n",
      " [-1.10134653e+00  2.22549488e-04  1.22906130e-01]]\n"
     ]
    },
    {
     "data": {
      "text/plain": [
       "Text(0, 0.5, 'mWi')"
      ]
     },
     "execution_count": 79,
     "metadata": {},
     "output_type": "execute_result"
    },
    {
     "data": {
      "image/png": "[encoded data removed]",
      "text/plain": [
       "<Figure size 432x288 with 1 Axes>"
      ]
     },
     "metadata": {
      "needs_background": "light"
     },
     "output_type": "display_data"
    }
   ],
   "source": [
    "# source consulted: \n",
    "# https://www.geeksforgeeks.org/pandas-read_table-function/]\n",
    "# https://docs.scipy.org/doc/scipy/reference/generated/scipy.optimize.curve_fit.html\n",
    "\n",
    "import pandas as pd\n",
    "from scipy.optimize import curve_fit\n",
    "\n",
    "# Read the table\n",
    "print('Table:')\n",
    "url = 'https://cdsarc.cds.unistra.fr/ftp/J/ApJ/826/56/table4.dat'\n",
    "label = ['Gal', 'RAdeg', 'DEdeg', 'ID', 'Per', 'V-I', 'F160W', 'sigTot', '[O/H]']\n",
    "df = pd.read_table(url, names = label, delim_whitespace=',')\n",
    "print(df)\n",
    "print()\n",
    "\n",
    "def law(x, zp, bw, zw):\n",
    "    # Function of the Leavitt Law\n",
    "    logpi = x[0]\n",
    "    logOH = x[1]\n",
    "    \n",
    "    law = zp + bw * logpi + zw * logOH\n",
    "    return law\n",
    "\n",
    "# Two given values in the table, used for x\n",
    "x = [df['Per'].values, df['[O/H]'].values]\n",
    "y = df['F160W'].values\n",
    "popt, pcov = curve_fit(law, x, y)\n",
    "\n",
    "print('[zp, bw, zw]:',popt)\n",
    "print()\n",
    "print('Covariance matrix:')\n",
    "print(pcov)\n",
    "\n",
    "def predicted():\n",
    "    # Function of the predicted Wesenheit magnitude\n",
    "    zp = popt[0]\n",
    "    bw = popt[1]\n",
    "    zw = popt[2]\n",
    "    meanOH = df['[O/H]'].mean()\n",
    "    return law([df['Per'].values, meanOH], zp, bw, zw)\n",
    "\n",
    "# Graph of mWi against log10Pi\n",
    "x = df['Per']\n",
    "y = df['F160W']\n",
    "\n",
    "# Sketch the graph\n",
    "plt.scatter(x,y)\n",
    "plt.plot(x, predicted(), color = 'red')\n",
    "plt.legend(['Predicted','Actual'])\n",
    "plt.xlabel('log10Pi')\n",
    "plt.ylabel('mWi')"
   ]
  },
  {
   "cell_type": "markdown",
   "metadata": {},
   "source": [
    "## Problem 2\n",
    "\n",
    "**Posterior probability distribution of binomial distribution**\n",
    "\n",
    "Given a set of $N$ measurements, $x_i$, drawn from a binomial distribution described with parameter $b$, we seek the posterior probability distribution $p(b|x_i)$.\n",
    "\n",
    "When $N$ is large, $b$ and its (presumably Gaussian) uncertainty $\\sigma_b$ can be determined using the equation above. For small $N$, the proper procedure is as follows. Assuming that the prior for $b$ is at in the range 0-1, the posterior probability for $b$ is\n",
    "\n",
    "$$p(b|k,N) = C b^k (1-b)^{N-k}$$\n",
    "\n",
    "where $k$ is now the actual observed number of successes in a data set of $N$ values, and $C$ is a normalization factor with can be determined from the condition\n",
    "\n",
    "$$\\int_0 ^1 p(b|k,N)db=1.$$\n",
    "\n",
    "The maximum posterior occurs at $b_0 = k/N$.\n",
    "\n",
    "Write code for calculating the posterior distribution.\n",
    "Vary the value $b$ and draw the resulted posterior probability distribution from our data set. \n",
    "\n",
    "In comparison, also calculate a Gaussian distribution from the same data set.\n"
   ]
  },
  {
   "cell_type": "markdown",
   "metadata": {},
   "source": [
    "### Solution\n",
    "\n"
   ]
  },
  {
   "cell_type": "code",
   "execution_count": 44,
   "metadata": {},
   "outputs": [],
   "source": [
    "import numpy as np\n",
    "from scipy import stats\n",
    "\n",
    "from scipy.stats import norm\n",
    "\n",
    "%matplotlib inline\n",
    "import matplotlib.pyplot as plt"
   ]
  },
  {
   "cell_type": "code",
   "execution_count": 103,
   "metadata": {},
   "outputs": [
    {
     "data": {
      "text/plain": [
       "Text(0, 0.5, 'probability')"
      ]
     },
     "execution_count": 103,
     "metadata": {},
     "output_type": "execute_result"
    },
    {
     "data": {
      "image/png": "[encoded data removed]",
      "text/plain": [
       "<Figure size 432x288 with 1 Axes>"
      ]
     },
     "metadata": {
      "needs_background": "light"
     },
     "output_type": "display_data"
    }
   ],
   "source": [
    "# Choose values for k and N\n",
    "k = 10\n",
    "N = 50\n",
    "\n",
    "def posterior(b, k, N):\n",
    "    return (b**k)*((1-b)**(N-k))\n",
    "\n",
    "def post_dist(k, N):\n",
    "    lst_1 = []\n",
    "    # Range of b\n",
    "    lst_2 = np.arange(0,1,0.001)\n",
    "    \n",
    "    for b in lst_2:\n",
    "        lst_1.append(posterior(b, k, N))\n",
    "    \n",
    "    # Normalized\n",
    "    lst_1 = lst_1/(sum(lst)*0.0001)\n",
    "    \n",
    "    return lst_1, lst_2\n",
    "\n",
    "y,x=post_dist(k, N)\n",
    "\n",
    "# unknown sigma as the \"equation above\" is not provided   \n",
    "# In Gaussian distribution, mode is mean, mean is k/N\n",
    "# mean = k/N\n",
    "# sigma = ?\n",
    "\n",
    "plt.plot(x,y)\n",
    "# plt.plot(x, stats.norm(mu,sigma).pdf(x))\n",
    "plt.legend(['Posterior Distribution', 'Gaussian Distribution'])\n",
    "plt.xlabel('b')\n",
    "plt.ylabel('probability')"
   ]
  },
  {
   "cell_type": "code",
   "execution_count": null,
   "metadata": {},
   "outputs": [],
   "source": []
  }
 ],
 "metadata": {
  "anaconda-cloud": {},
  "kernelspec": {
   "display_name": "Python 3 (ipykernel)",
   "language": "python",
   "name": "python3"
  },
  "language_info": {
   "codemirror_mode": {
    "name": "ipython",
    "version": 3
   },
   "file_extension": ".py",
   "mimetype": "text/x-python",
   "name": "python",
   "nbconvert_exporter": "python",
   "pygments_lexer": "ipython3",
   "version": "3.9.7"
  }
 },
 "nbformat": 4,
 "nbformat_minor": 2
}
