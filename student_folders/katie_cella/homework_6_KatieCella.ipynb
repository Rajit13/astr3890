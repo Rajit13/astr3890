{
 "cells": [
  {
   "cell_type": "markdown",
   "metadata": {},
   "source": [
    "#### ASTR 3890 - Selected Topics: Data Science for Large Astronomical Surveys (Spring 2022)\n",
    "***N. Hernitschek***\n",
    "___\n",
    "\n",
    "# Homework 6\n",
    "### Due: Monday, Mar 14th at 11.00am CST\n",
    "\n",
    "The completed lecture notebook must also be submitted by 11:00am Central Time on March 14th (after Spring Break).\n",
    "\n",
    "---"
   ]
  },
  {
   "cell_type": "markdown",
   "metadata": {},
   "source": [
    "## Problem 1\n",
    "\n",
    "**The Leavitt Law**\n",
    "\n",
    "Cepheid variable stars in galaxies follow a linear relation between their log periods, log metallicity, and apparent magnitude (the Leavitt law):\n",
    "\n",
    "$$m_i^W = zp_{W,N4258} + b_W \\log P_i + Z_w \\Delta \\log (O/H)_i \\;\\;\\; (1)$$\n",
    "\n",
    "where \n",
    "$$m^W = m_H - 0.39(V-I)$$\n",
    "\n",
    "and is called the \"Wesenheit magnitude\".\n",
    "\n",
    "The index $i$ here denotes the individual Cepheids in a sample.\n",
    "\n",
    "\n",
    "Download table 4 from Riess et al. (2016):\n",
    "\n",
    "https://ui.adsabs.harvard.edu/abs/2016yCat..18260056R/abstract\n",
    "\n",
    "You will find the tables here:\n",
    "https://cdsarc.cds.unistra.fr/viz-bin/cat/J/ApJ/826/56#/browse\n",
    "Table descriptions are in the readme file.\n",
    "\n",
    "Use the data for Cepheids in NGC 4258 from Table 4. Assuming that there is no intrinsic scatter in the Leavitt law, the parameters\n",
    "of Equation (1) can be determined through ordinary least squares. Determine the best-fit\n",
    "parameters $zp_{W,N4258}$, $b_W$, and $Z_w$ and their Gaussian covariance matrix. Plot the data $m^W_i$ vs. $\\log_{10} P_i$ and overlay the best fit model (evaluated at the mean metallicity of the sample).\n",
    "\n",
    "\n",
    "\n",
    "\n",
    "\n",
    "\n"
   ]
  },
  {
   "cell_type": "markdown",
   "metadata": {},
   "source": [
    "### Solution"
   ]
  },
  {
   "cell_type": "code",
   "execution_count": 148,
   "metadata": {},
   "outputs": [
    {
     "data": {
      "image/png": "[encoded data removed]",
      "text/plain": [
       "<Figure size 432x288 with 1 Axes>"
      ]
     },
     "metadata": {
      "needs_background": "light"
     },
     "output_type": "display_data"
    },
    {
     "name": "stdout",
     "output_type": "stream",
     "text": [
      "[[ 4.36607096e+01 -1.07885974e-01 -1.98106507e+01]\n",
      " [-1.07885974e-01  5.31801285e-03  4.20092991e-02]\n",
      " [-1.98106507e+01  4.20092991e-02  8.99906667e+00]]\n"
     ]
    }
   ],
   "source": [
    "import numpy as np\n",
    "import scipy as sc\n",
    "%matplotlib inline\n",
    "import matplotlib.pyplot as plt\n",
    "\n",
    "data = np.loadtxt('table4.dat.txt', usecols=(4,5,6,8), unpack=True)\n",
    "P_i, VI_i, mH_i, OH_i = data\n",
    "\n",
    "y = mH_i - 0.39*VI_i\n",
    "X = np.array([P_i, OH_i])\n",
    "\n",
    "\n",
    "def func(X, zp, bw, Z):\n",
    "    P_i, OH_i = X\n",
    "    return zp + (bw*np.log(P_i)) + (Z*np.log(OH_i))\n",
    "\n",
    "consts, cov_x = sc.optimize.curve_fit(func, X, y)\n",
    "\n",
    "x1 = np.linspace(0.4,2.1)\n",
    "x2 = np.mean(OH_i)\n",
    "\n",
    "\n",
    "plt.scatter(np.log10(P_i),y)\n",
    "plt.scatter(x1, func([10**x1,x2], consts[0], consts[1], consts[2]))\n",
    "plt.show()\n",
    "\n",
    "print(cov_x)\n"
   ]
  },
  {
   "cell_type": "markdown",
   "metadata": {},
   "source": [
    "## Problem 2\n",
    "\n",
    "**Posterior probability distribution of binomial distribution**\n",
    "\n",
    "Given a set of $N$ measurements, $x_i$, drawn from a binomial distribution described with parameter $b$, we seek the posterior probability distribution $p(b|x_i)$.\n",
    "\n",
    "When $N$ is large, $b$ and its (presumably Gaussian) uncertainty $\\sigma_b$ can be determined using the equation above. For small $N$, the proper procedure is as follows. Assuming that the prior for $b$ is at in the range 0-1, the posterior probability for $b$ is\n",
    "\n",
    "$$p(b|k,N) = C b^k (1-b)^{N-k}$$\n",
    "\n",
    "where $k$ is now the actual observed number of successes in a data set of $N$ values, and $C$ is a normalization factor with can be determined from the condition\n",
    "\n",
    "$$\\int_0 ^1 p(b|k,N)db=1.$$\n",
    "\n",
    "The maximum posterior occurs at $b_0 = k/N$.\n",
    "\n",
    "Write code for calculating the posterior distribution.\n",
    "Vary the value $b$ and draw the resulted posterior probability distribution from our data set. \n",
    "\n",
    "In comparison, also calculate a Gaussian distribution from the same data set.\n"
   ]
  },
  {
   "cell_type": "markdown",
   "metadata": {},
   "source": [
    "### Solution"
   ]
  },
  {
   "cell_type": "code",
   "execution_count": 143,
   "metadata": {},
   "outputs": [],
   "source": [
    "np.random.seed(1)  # for repeatability\n",
    "b_true = 0.2\n",
    "C = 1\n",
    "N = 100\n",
    "k = b_true * N"
   ]
  },
  {
   "cell_type": "code",
   "execution_count": 144,
   "metadata": {},
   "outputs": [],
   "source": [
    "def log_prior(theta):\n",
    "    # needs to be between 0 and 1\n",
    "    if theta <= 0 or theta >= 1:\n",
    "        return -np.inf\n",
    "    else:\n",
    "        return 0\n",
    "    \n",
    "def log_likelihood(theta, C, k, N):\n",
    "    if theta >= 1 or theta <=0:\n",
    "        return 0\n",
    "    val = np.log(C) + k*np.log(theta) +  (N-k)*np.log(1-theta)\n",
    "    return val\n",
    "\n",
    "def log_posterior(theta, C, k, N):\n",
    "    return log_prior(theta) + log_likelihood(theta, C, k, N)\n",
    "\n"
   ]
  },
  {
   "cell_type": "code",
   "execution_count": 145,
   "metadata": {},
   "outputs": [],
   "source": [
    "import emcee\n",
    "import numpy as np\n",
    "\n",
    "from scipy import stats\n",
    "\n",
    "%matplotlib inline\n",
    "import matplotlib.pyplot as plt\n",
    "\n",
    "# you don't need to care about these details now; we learn more about MCMC in the next lecture\n",
    "\n",
    "ndim = 1  # number of parameters in the model\n",
    "nwalkers = 50  # number of MCMC walkers\n",
    "nburn = 1000  # \"burn-in\" period to let chains stabilize\n",
    "nsteps = 2000  # number of MCMC steps to take\n",
    "\n",
    "# initializing the MCMC: we'll start at random locations between 0 and 1\n",
    "starting_guesses = 1 * np.random.rand(nwalkers, ndim)\n",
    "\n",
    "\n",
    "sampler = emcee.EnsembleSampler(nwalkers, ndim, log_posterior, args=[C, k, N])\n",
    "sampler.run_mcmc(starting_guesses, nsteps)\n",
    "\n",
    "sample = sampler.chain  # shape = (nwalkers, nsteps, ndim)\n",
    "sample = sampler.chain[:, nburn:, :].ravel()  # discard burn-in points"
   ]
  },
  {
   "cell_type": "markdown",
   "metadata": {},
   "source": [
    "### with b_true = 0.5"
   ]
  },
  {
   "cell_type": "code",
   "execution_count": 138,
   "metadata": {},
   "outputs": [
    {
     "data": {
      "text/plain": [
       "Text(0, 0.5, 'P(b)')"
      ]
     },
     "execution_count": 138,
     "metadata": {},
     "output_type": "execute_result"
    },
    {
     "data": {
      "image/png": "[encoded data removed]",
      "text/plain": [
       "<Figure size 432x288 with 1 Axes>"
      ]
     },
     "metadata": {
      "needs_background": "light"
     },
     "output_type": "display_data"
    }
   ],
   "source": [
    "# plot a histogram of the sample\n",
    "plt.hist(sample, bins=50, histtype=\"stepfilled\", alpha=0.3, density=True)\n",
    "\n",
    "# plot a best-fit Gaussian\n",
    "b_fit = np.linspace(0,1)\n",
    "pdf = stats.norm(np.mean(sample), np.std(sample)).pdf(b_fit)\n",
    "\n",
    "plt.plot(b_fit, pdf, '-k')\n",
    "\n",
    "\n",
    "plt.xlabel(\"b\"); plt.ylabel(\"P(b)\")"
   ]
  },
  {
   "cell_type": "markdown",
   "metadata": {},
   "source": [
    "### with b_true = 0.7"
   ]
  },
  {
   "cell_type": "code",
   "execution_count": 142,
   "metadata": {},
   "outputs": [
    {
     "data": {
      "text/plain": [
       "Text(0, 0.5, 'P(b)')"
      ]
     },
     "execution_count": 142,
     "metadata": {},
     "output_type": "execute_result"
    },
    {
     "data": {
      "image/png": "[encoded data removed]",
      "text/plain": [
       "<Figure size 432x288 with 1 Axes>"
      ]
     },
     "metadata": {
      "needs_background": "light"
     },
     "output_type": "display_data"
    }
   ],
   "source": [
    "# plot a histogram of the sample\n",
    "plt.hist(sample, bins=50, histtype=\"stepfilled\", alpha=0.3, density=True)\n",
    "\n",
    "# plot a best-fit Gaussian\n",
    "b_fit = np.linspace(0,1)\n",
    "pdf = stats.norm(np.mean(sample), np.std(sample)).pdf(b_fit)\n",
    "\n",
    "plt.plot(b_fit, pdf, '-k')\n",
    "\n",
    "\n",
    "plt.xlabel(\"b\"); plt.ylabel(\"P(b)\")"
   ]
  },
  {
   "cell_type": "markdown",
   "metadata": {},
   "source": [
    "### with b_true = 0.2"
   ]
  },
  {
   "cell_type": "code",
   "execution_count": 146,
   "metadata": {},
   "outputs": [
    {
     "data": {
      "text/plain": [
       "Text(0, 0.5, 'P(b)')"
      ]
     },
     "execution_count": 146,
     "metadata": {},
     "output_type": "execute_result"
    },
    {
     "data": {
      "image/png": "[encoded data removed]",
      "text/plain": [
       "<Figure size 432x288 with 1 Axes>"
      ]
     },
     "metadata": {
      "needs_background": "light"
     },
     "output_type": "display_data"
    }
   ],
   "source": [
    "# plot a histogram of the sample\n",
    "plt.hist(sample, bins=50, histtype=\"stepfilled\", alpha=0.3, density=True)\n",
    "\n",
    "# plot a best-fit Gaussian\n",
    "b_fit = np.linspace(0,1)\n",
    "pdf = stats.norm(np.mean(sample), np.std(sample)).pdf(b_fit)\n",
    "\n",
    "plt.plot(b_fit, pdf, '-k')\n",
    "\n",
    "\n",
    "plt.xlabel(\"b\"); plt.ylabel(\"P(b)\")"
   ]
  },
  {
   "cell_type": "code",
   "execution_count": null,
   "metadata": {},
   "outputs": [],
   "source": []
  }
 ],
 "metadata": {
  "anaconda-cloud": {},
  "kernelspec": {
   "display_name": "Python 3 (ipykernel)",
   "language": "python",
   "name": "python3"
  },
  "language_info": {
   "codemirror_mode": {
    "name": "ipython",
    "version": 3
   },
   "file_extension": ".py",
   "mimetype": "text/x-python",
   "name": "python",
   "nbconvert_exporter": "python",
   "pygments_lexer": "ipython3",
   "version": "3.7.12"
  }
 },
 "nbformat": 4,
 "nbformat_minor": 2
}
