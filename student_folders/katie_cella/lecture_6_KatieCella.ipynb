{
 "cells": [
  {
   "cell_type": "markdown",
   "metadata": {
    "slideshow": {
     "slide_type": "slide"
    }
   },
   "source": [
    "# Bayesian Statistical Inference I\n",
    "\n",
    "*N. Hernitschek, 2022*\n",
    "\n",
    "This is the sixth Jupyter notebook for **ASTR 3890 - Selected Topics: Data Science for Large Astronomical Surveys (Spring 2022)**. \n",
    "This Jupyter notebook gives an introduction to frequentist statistical inference and maximum likelihood estimation.\n",
    "\n",
    "It is based on code from the textbook\n",
    "\n",
    "Statistics, Data Mining and Machine Learning in Astronomy: A Practical Python Guide for the Analysis of\n",
    "Survey Data - Z. Ivezic, A. J. Connolly, J. T. VanderPlas, A. Gray\n",
    "\n",
    "as well as on the \"Inference\" lectures of G. Richards' \"Astrostatistics\" class at Drexel University (PHYS 440/540, https://github.com/gtrichards/PHYS_440_540) and J. Bovy's mini-course on \"Statistics & Inference in Astrophysics\" at the University of Toronto (http://astro.utoronto.ca/~bovy/teaching.html). \n",
    "\n",
    "***Exercises required for class participation are in <font color='red'>red</font>.***"
   ]
  },
  {
   "cell_type": "markdown",
   "metadata": {},
   "source": [
    "---\n",
    "## Contents\n",
    "* [Maximum Likelihood Estimation](#first-bullet)\n",
    "* [Gaussian distribution embedded in a uniform background distribution](#second-bullet)\n",
    "\n"
   ]
  },
  {
   "cell_type": "markdown",
   "metadata": {},
   "source": [
    "## 1. Maximum Likelihood Estimation <a class=\"anchor\" id=\"first-bullet\"></a>\n",
    "\n",
    "This is an example for MLE using the Bayesian approach."
   ]
  },
  {
   "cell_type": "markdown",
   "metadata": {},
   "source": [
    "### The Flux of a Star\n",
    "\n",
    "Imagine that we point our telescope to the sky, and observe the light coming from a single star. We'll assume that the star's true flux is constant with time, i.e. that is it has a fixed value $F_{true}$.\n",
    "We'll also ignore effects leading to systematic errors. \n",
    "\n",
    "We perform a series of $N$ measurements with our (perfect) telescope, where the $i^{th}$ measurement reports the observed photon flux $F_i$ and error $e_i$.\n",
    "\n",
    "The question is: Given this set of measurements $D=\\{F_i,e_i\\}$, what is our best estimate of the true flux $F_{true}$?\n",
    "\n",
    "We had seen this example in `lecture_5.ipynb` using the frequentist approach. Now we are using the **Bayesian approach**."
   ]
  },
  {
   "cell_type": "markdown",
   "metadata": {},
   "source": [
    "For a one parameter problem like here, it's as simple as computing the posterior probability $P(F_{true} | D)$ as a function of $F_{true}$: this is the distribution reflecting our knowledge of the parameter $F_{true}$. But with growing **model dimensions**, this direct approach becomes increasingly intractable. For this reason, Bayesian calculations often depend on **sampling methods such as Markov Chain Monte Carlo (MCMC)**. \n",
    "\n",
    "We won't go into the details of the theory of MCMC here, but instead look into that in Lecture 7. \n",
    "\n",
    "Instead here we will see a practical example of applying an MCMC approach using the `emcee` package. Keep in mind here that the goal is to generate a set of points drawn from the posterior probability distribution, and to use those points to determine the answer we seek.\n",
    "\n",
    "To perform this MCMC, we start by defining Python functions for the prior $P(F_{true})$, the likelihood $P(D | F_{true})$, and the posterior $P(F_{true} | D)$.\n",
    "The model we use here is one-dimensional, but to handle multi-dimensional models we'll define the model in terms of an array of parameters $\\theta$, which in this case is `theta=[Ftrue]`.\n"
   ]
  },
  {
   "cell_type": "markdown",
   "metadata": {},
   "source": [
    "***BEFORE YOU START:*** Please install the package `emcee`before going through today's notebook. Make sure this notebook is in the correct Python kernel you are using before executing each of the following cells in turn. "
   ]
  },
  {
   "cell_type": "code",
   "execution_count": 1,
   "metadata": {},
   "outputs": [
    {
     "name": "stdout",
     "output_type": "stream",
     "text": [
      "Requirement already satisfied: emcee in /Users/katiecella/miniconda3/lib/python3.7/site-packages (3.1.1)\r\n",
      "Requirement already satisfied: numpy in /Users/katiecella/miniconda3/lib/python3.7/site-packages (from emcee) (1.21.5)\r\n"
     ]
    }
   ],
   "source": [
    "!pip3 install emcee"
   ]
  },
  {
   "cell_type": "markdown",
   "metadata": {},
   "source": [
    "As in `lecture_5.ipynb`, we use Python to generate some toy data to demonstrate the frequentist approaches to the problem (in the next lecture we will compare this to the Bayesian approach). \n",
    "As the measurements are number counts, a Poisson distribution is a good approximation to the measurement process:"
   ]
  },
  {
   "cell_type": "code",
   "execution_count": 1,
   "metadata": {},
   "outputs": [],
   "source": [
    "# Generating some simple photon count data\n",
    "\n",
    "import numpy as np\n",
    "from scipy import stats\n",
    "np.random.seed(1)  # for repeatability\n",
    "\n",
    "F_true = 1000  # true flux, say number of photons measured in 1 second\n",
    "N = 50 # number of measurements\n",
    "F = stats.poisson(F_true).rvs(N)  # N measurements of the flux\n",
    "e = np.sqrt(F)  # errors on Poisson counts estimated via square root\n"
   ]
  },
  {
   "cell_type": "code",
   "execution_count": 2,
   "metadata": {},
   "outputs": [],
   "source": [
    "def log_prior(theta):\n",
    "    return 1  # flat prior\n",
    "\n",
    "def log_likelihood(theta, F, e):\n",
    "    return -0.5 * np.sum(np.log(2 * np.pi * e ** 2)\n",
    "                         + (F - theta[0]) ** 2 / e ** 2)\n",
    "\n",
    "def log_posterior(theta, F, e):\n",
    "    return log_prior(theta) + log_likelihood(theta, F, e)\n"
   ]
  },
  {
   "cell_type": "markdown",
   "metadata": {},
   "source": [
    "Now we set up the problem, including generating some random starting guesses for the multiple chains of points."
   ]
  },
  {
   "cell_type": "code",
   "execution_count": 3,
   "metadata": {},
   "outputs": [],
   "source": [
    "import emcee\n",
    "import numpy as np\n",
    "\n",
    "from scipy import stats\n",
    "\n",
    "%matplotlib inline\n",
    "import matplotlib.pyplot as plt\n",
    "\n",
    "# you don't need to care about these details now; we learn more about MCMC in the next lecture\n",
    "\n",
    "ndim = 1  # number of parameters in the model\n",
    "nwalkers = 50  # number of MCMC walkers\n",
    "nburn = 1000  # \"burn-in\" period to let chains stabilize\n",
    "nsteps = 2000  # number of MCMC steps to take\n",
    "\n",
    "# initializing the MCMC: we'll start at random locations between 0 and 2000\n",
    "starting_guesses = 2000 * np.random.rand(nwalkers, ndim)\n",
    "\n",
    "\n",
    "sampler = emcee.EnsembleSampler(nwalkers, ndim, log_posterior, args=[F, e])\n",
    "sampler.run_mcmc(starting_guesses, nsteps)\n",
    "\n",
    "sample = sampler.chain  # shape = (nwalkers, nsteps, ndim)\n",
    "sample = sampler.chain[:, nburn:, :].ravel()  # discard burn-in points"
   ]
  },
  {
   "cell_type": "markdown",
   "metadata": {},
   "source": [
    "If this all worked correctly, the array `sample` should contain a series of 50000 points drawn from the posterior. Let's plot them and check:"
   ]
  },
  {
   "cell_type": "code",
   "execution_count": 4,
   "metadata": {},
   "outputs": [
    {
     "data": {
      "text/plain": [
       "Text(0, 0.5, 'P(F)')"
      ]
     },
     "execution_count": 4,
     "metadata": {},
     "output_type": "execute_result"
    },
    {
     "data": {
      "image/png": "[encoded data removed]",
      "text/plain": [
       "<Figure size 432x288 with 1 Axes>"
      ]
     },
     "metadata": {
      "needs_background": "light"
     },
     "output_type": "display_data"
    }
   ],
   "source": [
    "# plot a histogram of the sample\n",
    "plt.hist(sample, bins=50, histtype=\"stepfilled\", alpha=0.3, density=True)\n",
    "\n",
    "# plot a best-fit Gaussian\n",
    "F_fit = np.linspace(975, 1025)\n",
    "pdf = stats.norm(np.mean(sample), np.std(sample)).pdf(F_fit)\n",
    "\n",
    "plt.plot(F_fit, pdf, '-k')\n",
    "\n",
    "\n",
    "plt.xlabel(\"F\"); plt.ylabel(\"P(F)\")"
   ]
  },
  {
   "cell_type": "markdown",
   "metadata": {},
   "source": [
    "We end up with a sample of points drawn from the (normal) posterior distribution. The mean and standard deviation of this posterior are the corollary of the frequentist maximum likelihood estimate above:"
   ]
  },
  {
   "cell_type": "code",
   "execution_count": 5,
   "metadata": {},
   "outputs": [
    {
     "name": "stdout",
     "output_type": "stream",
     "text": [
      "\n",
      "      F_true = 1000\n",
      "      F_est  = 998 +/- 4 (based on 50 measurements)\n",
      "      \n"
     ]
    }
   ],
   "source": [
    "print(\"\"\"\n",
    "      F_true = {0}\n",
    "      F_est  = {1:.0f} +/- {2:.0f} (based on {3} measurements)\n",
    "      \"\"\".format(F_true, np.mean(sample), np.std(sample), N))\n"
   ]
  },
  {
   "cell_type": "markdown",
   "metadata": {},
   "source": [
    "\n",
    "\n",
    "We see that, as expected for this simple problem, the Bayesian approach here yields the same result as the frequentist approach.\n"
   ]
  },
  {
   "cell_type": "markdown",
   "metadata": {},
   "source": [
    "This might give you the impression that the Bayesian method is unnecessarily complicated without improving any results.\n",
    "Here, this is the case: Using an Affine Invariant Markov Chain Monte Carlo Ensemble sampler to characterize a one-dimensional normal distribution is overly complicated. However, we did this here to demonstrate an approach, and this approach is usually applied to complicated posteriors that can be a) highly multidimensional, b) have likelihoods and posteriors that are complicated to \"explore\" as they might be anything but a Gaussian. \n",
    "\n",
    "In these cases, using a MCMC algorithm like the Affine Invariant Markov Chain Monte Carlo Ensemble sampler is a way to a) provice nice results b) within a reasonable computational time (instead of, for example, maximizing posteriors on a grid in parameter space).\n"
   ]
  },
  {
   "cell_type": "markdown",
   "metadata": {},
   "source": [
    "When we computed the sample mean and standard deviation above, we were employing a **frequentist** technique to characterize the posterior distribution. \n",
    "\n",
    "\n",
    "<font color='red'>What would be the pure Bayesian result for this problem?</font> \n",
    "\n",
    "The pure Bayesian result would just be the sample, not assuming it is a Gaussian."
   ]
  },
  {
   "cell_type": "markdown",
   "metadata": {},
   "source": [
    "### Comparing a More Sophisticated Model\n",
    "\n",
    "Let's now take a look at a more complicated situation, and compare the frequentist and Bayesian results yet again. So far, we assumed that the star was static. Now we assume that we're looking at an object which we suspect has some stochastic variation — that is, it varies with time, but in an unpredictable way (a Quasar is a good example of such an object).\n",
    "\n",
    "We'll propose a simple 2-parameter Gaussian model for this object: $\\theta = [\\mu,\\sigma]$ where $\\mu$ is the mean value, and $\\sigma$ is the standard deviation of the variability intrinsic to the object. Thus our model for the probability of the true flux at the time of each observation is:"
   ]
  },
  {
   "cell_type": "markdown",
   "metadata": {},
   "source": [
    "$$F_{true} \\sim \\frac{1}{\\sqrt{2\\pi\\sigma^2}}\\exp \\left[ \\frac{-(F-\\mu)^2}{2\\sigma^2}    \\right]$$"
   ]
  },
  {
   "cell_type": "markdown",
   "metadata": {},
   "source": [
    "Now, we'll again consider $N$ observations each with their own error. We generate them:"
   ]
  },
  {
   "cell_type": "code",
   "execution_count": 6,
   "metadata": {},
   "outputs": [],
   "source": [
    "np.random.seed(42)  # for reproducibility\n",
    "N = 100  # we'll use more samples for the more complicated model\n",
    "mu_true, sigma_true = 1000, 15  # stochastic flux model\n",
    "\n",
    "F_true = stats.norm(mu_true, sigma_true).rvs(N)  # (unknown) true flux\n",
    "F = stats.poisson(F_true).rvs()  # observed flux: true flux plus Poisson errors.\n",
    "e = np.sqrt(F)  # root-N error, as above\n"
   ]
  },
  {
   "cell_type": "markdown",
   "metadata": {},
   "source": [
    "**The Frequentist Approach**"
   ]
  },
  {
   "cell_type": "markdown",
   "metadata": {},
   "source": [
    "The resulting likelihood is the convolution of the intrinsic distribution with the error distribution, so we have"
   ]
  },
  {
   "cell_type": "markdown",
   "metadata": {},
   "source": [
    "$$L(D|\\theta) = \\prod_{i=1}^N \\frac{1}{\\sqrt{2\\pi(\\sigma^2 + e_i^2)    }}  \\exp \\left[ \\frac{-(F_i-\\mu)^2}{2(\\sigma^2 + e_i^2)} \\right]  $$"
   ]
  },
  {
   "cell_type": "markdown",
   "metadata": {},
   "source": [
    "As before, we can analytically maximize this likelihood (which is not always the case!).\n",
    "\n",
    "Here we find the best estimate for $\\mu$:"
   ]
  },
  {
   "cell_type": "markdown",
   "metadata": {},
   "source": [
    "$$\\mu_{est} = \\frac{\\sum \\omega_i F_i}{\\sum \\omega_i}$$"
   ]
  },
  {
   "cell_type": "markdown",
   "metadata": {},
   "source": [
    "with"
   ]
  },
  {
   "cell_type": "markdown",
   "metadata": {},
   "source": [
    "$$w_i = \\frac{1}{\\sigma^2 + e_i^2}$$"
   ]
  },
  {
   "cell_type": "markdown",
   "metadata": {},
   "source": [
    "From this equation we see were our problem lies: The (optimal) value of $\\mu$ depends on the optimal value of $\\sigma$. Thus, the results are correlated, so we can no longer use straightforward analytic methods to arrive at the frequentist result.\n",
    "\n",
    "What we can do is using **numerical optimization techniques** to determine the maximum likelihood value. Here we'll use the optimization routines available within `scipy.optimize`:"
   ]
  },
  {
   "cell_type": "code",
   "execution_count": 7,
   "metadata": {},
   "outputs": [
    {
     "name": "stdout",
     "output_type": "stream",
     "text": [
      "Optimization terminated successfully.\n",
      "         Current function value: 502.839505\n",
      "         Iterations: 58\n",
      "         Function evaluations: 114\n",
      "\n",
      "      Maximum likelihood estimate for 100 data points:\n",
      "          mu=999, sigma=19\n",
      "      \n"
     ]
    }
   ],
   "source": [
    "def log_likelihood(theta, F, e):\n",
    "    return -0.5 * np.sum(np.log(2 * np.pi * (theta[1] ** 2 + e ** 2))\n",
    "                         + (F - theta[0]) ** 2 / (theta[1] ** 2 + e ** 2))\n",
    "\n",
    "# maximize likelihood <--> minimize negative likelihood\n",
    "def neg_log_likelihood(theta, F, e):\n",
    "    return -log_likelihood(theta, F, e)\n",
    "\n",
    "from scipy import optimize\n",
    "theta_guess = [900, 5]\n",
    "theta_est = optimize.fmin(neg_log_likelihood, theta_guess, args=(F, e))\n",
    "print(\"\"\"\n",
    "      Maximum likelihood estimate for {0} data points:\n",
    "          mu={theta[0]:.0f}, sigma={theta[1]:.0f}\n",
    "      \"\"\".format(N, theta=theta_est))"
   ]
  },
  {
   "cell_type": "markdown",
   "metadata": {},
   "source": [
    "This maximum likelihood value gives our best estimate of the parameters $\\mu$ and $\\sigma$ from our model. But this is only half the answer: we need to determine how confident we are in this answer, that is, we need to compute the error bars on $\\mu$ and $\\sigma$.\n",
    "\n",
    "\n",
    "There are several approaches to **determining errors in a frequentist paradigm**. We could, as above, fit a normal approximation to the maximum likelihood and report the covariance matrix (here we'd have to do this numerically rather than analytically). Alternatively, we can compute statistics like $\\chi^2$\n",
    "and $\\chi_{d.o.f.}^2$ and use standard tests to determine confidence limits, which also depends on strong assumptions about the Gaussianity of the likelihood. (**This likelihood is Gaussian, but many are not.**) We might alternatively use randomized sampling approaches such as Jackknife or Bootstrap, which maximize the likelihood for randomized samples of the input data in order to explore the degree of certainty in the result.\n",
    "\n",
    "All of these would be valid techniques to use, but each comes with its own assumptions and subtleties. Here, for simplicity, we'll use the basic bootstrap resampler from the `astroML` package:"
   ]
  },
  {
   "cell_type": "code",
   "execution_count": 8,
   "metadata": {},
   "outputs": [],
   "source": [
    "from astroML.resample import bootstrap\n",
    "\n",
    "def fit_samples(sample):\n",
    "    # sample is an array of size [n_bootstraps, n_samples]\n",
    "    # compute the maximum likelihood for each bootstrap.\n",
    "    return np.array([optimize.fmin(neg_log_likelihood, theta_guess,\n",
    "                                   args=(F, np.sqrt(F)), disp=0)\n",
    "                     for F in sample])\n",
    "\n",
    "samples = bootstrap(F, 1000, fit_samples)  # 1000 bootstrap resamplings"
   ]
  },
  {
   "cell_type": "markdown",
   "metadata": {},
   "source": [
    "\n",
    "\n",
    "Now in a similar manner to what we did above for the MCMC Bayesian posterior, we'll compute the sample mean and standard deviation to determine the **errors on the parameters.**\n",
    "\n"
   ]
  },
  {
   "cell_type": "code",
   "execution_count": 9,
   "metadata": {},
   "outputs": [
    {
     "name": "stdout",
     "output_type": "stream",
     "text": [
      "mu    = 999 +/- 4\n",
      "sigma = 18 +/- 5\n"
     ]
    }
   ],
   "source": [
    "mu_samp = samples[:, 0]\n",
    "sig_samp = abs(samples[:, 1])\n",
    "\n",
    "print (\"mu    = {0:.0f} +/- {1:.0f}\".format(mu_samp.mean(), mu_samp.std()))\n",
    "print (\"sigma = {0:.0f} +/- {1:.0f}\".format(sig_samp.mean(), sig_samp.std()))\n",
    "\n"
   ]
  },
  {
   "cell_type": "markdown",
   "metadata": {},
   "source": [
    "We used this here to get an idea of the frequentist approach to this problem.\n",
    "We aren't going into detail of the bootstrap resampling here; if you are interested in details, there is a huge literature on that available (also online).\n"
   ]
  },
  {
   "cell_type": "code",
   "execution_count": null,
   "metadata": {},
   "outputs": [],
   "source": []
  },
  {
   "cell_type": "markdown",
   "metadata": {},
   "source": [
    "**The Bayesian Approach**"
   ]
  },
  {
   "cell_type": "markdown",
   "metadata": {},
   "source": [
    "The Bayesian approach to this problem is almost exactly the same as it was in the previous problem. We thus can set it up by slightly modifying the above code."
   ]
  },
  {
   "cell_type": "code",
   "execution_count": 10,
   "metadata": {},
   "outputs": [],
   "source": [
    "def log_prior(theta):\n",
    "    # sigma needs to be positive.\n",
    "    if theta[1] <= 0:\n",
    "        return -np.inf\n",
    "    else:\n",
    "        return 0\n",
    "\n",
    "def log_posterior(theta, F, e):\n",
    "    return log_prior(theta) + log_likelihood(theta, F, e)\n",
    "\n",
    "# same setup as above:\n",
    "ndim, nwalkers = 2, 50\n",
    "nsteps, nburn = 2000, 1000\n",
    "\n",
    "starting_guesses = np.random.rand(nwalkers, ndim)\n",
    "starting_guesses[:, 0] *= 2000  # start mu between 0 and 2000\n",
    "starting_guesses[:, 1] *= 20    # start sigma between 0 and 20\n",
    "\n",
    "sampler = emcee.EnsembleSampler(nwalkers, ndim, log_posterior, args=[F, e])\n",
    "sampler.run_mcmc(starting_guesses, nsteps)\n",
    "\n",
    "sample = sampler.chain  # shape = (nwalkers, nsteps, ndim)\n",
    "sample = sampler.chain[:, nburn:, :].reshape(-1, 2)"
   ]
  },
  {
   "cell_type": "markdown",
   "metadata": {},
   "source": [
    "\n",
    "\n",
    "Now that we have the samples, we'll use a convenience routine from `astroML` to plot the traces and the contours representing **one and two standard deviations**:\n"
   ]
  },
  {
   "cell_type": "code",
   "execution_count": 11,
   "metadata": {},
   "outputs": [
    {
     "data": {
      "image/png": "[encoded data removed]",
      "text/plain": [
       "<Figure size 432x288 with 1 Axes>"
      ]
     },
     "metadata": {
      "needs_background": "light"
     },
     "output_type": "display_data"
    }
   ],
   "source": [
    "from astroML.plotting import plot_mcmc\n",
    "fig = plt.figure()\n",
    "ax = plot_mcmc(sample.T, fig=fig, labels=[r'$\\mu$', r'$\\sigma$'], colors='k')\n",
    "ax[0].plot(sample[:, 0], sample[:, 1], ',k', alpha=0.1)\n",
    "ax[0].plot([mu_true], [sigma_true], '+', color='red', ms=10);\n",
    "\n"
   ]
  },
  {
   "cell_type": "markdown",
   "metadata": {},
   "source": [
    "The red + indicates ground truth (from our problem setup), and the contours indicate one and two standard deviations (68% and 95% confidence levels). In other words, based on this analysis we are 68% confident that the model lies within the inner contour, and 95% confident that the model lies within the outer contour.\n",
    "\n",
    "Note here that a value of $\\sigma = 0$ is **consistent with our data within two standard deviations**: that is, depending on the certainty threshold you're interested in, our data are not enough to confidently rule out the possibility of a non-varying source.\n",
    "\n",
    "The other thing to notice is that this **posterior is definitely not Gaussian**: this can be seen by the lack of symmetry in the vertical direction. That means that the Gaussian approximation used within the frequentist approach may not reflect the true uncertainties in the result. This isn't an issue with frequentism itself (i.e. there are certainly ways to account for non-Gaussianity within the frequentist paradigm), but the vast majority of commonly applied frequentist techniques make the explicit or implicit assumption of Gaussianity of the distribution. Bayesian approaches generally don't require such assumptions. **Many problems we will deal with in astrostatistics have non-Gaussian distributions.**"
   ]
  },
  {
   "cell_type": "markdown",
   "metadata": {},
   "source": [
    "### Conclusion\n",
    "\n",
    "\n",
    "To summarize the differences between the frequentist and the Bayesian approach:\n",
    "\n",
    "* Frequentism considers probabilities to be related to frequencies of real or hypothetical events.\n",
    "* Bayesianism considers probabilities to measure degrees of knowledge.\n",
    "* Frequentist analyses generally proceed through use of point estimates and maximum likelihood approaches.\n",
    "* Bayesian analyses generally compute the posterior either directly or through some version of MCMC sampling.\n",
    "\n",
    "In simple problems, the two approaches can yield similar results. As data and models grow in complexity, however, the two approaches can diverge greatly."
   ]
  },
  {
   "cell_type": "markdown",
   "metadata": {},
   "source": [
    "## 2. Gaussian distribution embedded in a uniform background distribution <a class=\"anchor\" id=\"second-bullet\"></a>\n"
   ]
  },
  {
   "cell_type": "markdown",
   "metadata": {},
   "source": [
    "We here see how to **model the mixture of a Gauassian distribution with a uniform distribution**. \n",
    "We had seen examples for this in the lecture - the most common one in astronomy being spectral lines superimposed upon a background.\n",
    " \n",
    "\n",
    "Let's assume that \n",
    "* the location parameter, $\\mu$, is known (say from theory) and\n",
    "* the uncertainties in $x_i$ are negligible compared to $\\sigma$.\n",
    "\n",
    "The likelihood of obtaining a single measurement, $x_i$, can then be written as a probabilistic mixture of *either* the Gaussian *or* the uniform distribution. Hence, we use the **OR Rule** of probability:\n",
    "\n",
    "$$p(x_i|A,\\mu,\\sigma,I) = \\frac{A}{\\sigma\\sqrt{2\\pi}} \\exp\\left(\\frac{-(x_i-\\mu)^2}{2\\sigma^2}\\right) + \\frac{1-A}{W}.$$\n",
    "\n",
    "* Here the background probability is taken to be $0 < x < W$ and 0 otherwise.  \n",
    "* The feature of interest lies between $0$ and $W$.  \n",
    "* $A$ and $1-A$ are the relative strengths of the two components, which are obviously anti-correlated.  \n",
    "* Note that there will be covariance between $A$ and $\\sigma$. \n",
    "\n",
    "If we adopt a uniform prior in both $A$ and $\\sigma$:\n",
    "\n",
    "$$p(A,\\sigma|I) = C, \\; {\\rm for} \\; 0\\le A<A_{\\rm max} \\; {\\rm and} \\; 0 \\le \\sigma \\le \\sigma_{\\rm max},$$\n",
    "\n",
    "then the posterior pdf is given by\n",
    "\n",
    "$$\\ln [p(A,\\sigma|\\{x_i\\},\\mu,W)] = \\sum_{i=1}^N \\ln \\left[\\frac{A}{\\sigma \\sqrt{2\\pi}} \\exp\\left( \\frac{-(x_i-\\mu)^2}{2\\sigma^2} \\right)  + \\frac{1-A}{W} \\right].$$\n",
    "\n",
    "The example below is for $200$ data points with $A=0.5, \\sigma=1, \\mu=5, W=10$. Specifically, the bottom panel is a result drawn from this distribution and the top panel is the likelihood distribution derived from the data in the bottom panel.\n",
    "\n",
    "<font color='red'>Please execute the code below.</font> "
   ]
  },
  {
   "cell_type": "code",
   "execution_count": 12,
   "metadata": {},
   "outputs": [
    {
     "data": {
      "image/png": "[encoded data removed]",
      "text/plain": [
       "<Figure size 720x1080 with 3 Axes>"
      ]
     },
     "metadata": {
      "needs_background": "light"
     },
     "output_type": "display_data"
    }
   ],
   "source": [
    "# %load ./code/fig_likelihood_gausslin.py\n",
    "# Author: Jake VanderPlas\n",
    "# License: BSD\n",
    "#   The figure produced by this code is published in the textbook\n",
    "#   \"Statistics, Data Mining, and Machine Learning in Astronomy\" (2013)\n",
    "#   For more information, see http://astroML.github.com\n",
    "#   To report a bug or issue, use the following forum:\n",
    "#    https://groups.google.com/forum/#!forum/astroml-general\n",
    "from scipy.stats import truncnorm, uniform\n",
    "from astroML.plotting.mcmc import convert_to_stdev\n",
    "\n",
    "def gausslin_logL(xi, A=0.5, sigma=1.0, mu=5.0, L=10.0):\n",
    "    \"\"\"Equation 5.80: gaussian likelihood with uniform background\"\"\"\n",
    "    xi = np.asarray(xi)\n",
    "\n",
    "    shape = np.broadcast(sigma, A, mu, L).shape\n",
    "\n",
    "    xi = xi.reshape(xi.shape + tuple([1 for s in shape]))\n",
    "\n",
    "    return np.sum(np.log(A * np.exp(-0.5 * ((xi - mu) / sigma) ** 2)\n",
    "                         / (sigma * np.sqrt(2 * np.pi))\n",
    "                         + (1. - A) / L), 0)\n",
    "\n",
    "#------------------------------------------------------------\n",
    "# Define the distribution\n",
    "np.random.seed(0)\n",
    "mu = 5.0\n",
    "sigma = 1.0\n",
    "L = 10.0\n",
    "A = 0.5\n",
    "N = 200\n",
    "\n",
    "xi = np.random.random(N)\n",
    "NA = np.sum(xi < A)\n",
    "\n",
    "dist1 = truncnorm((0 - mu) / sigma, (L - mu) / sigma, mu, sigma)\n",
    "dist2 = uniform(0, 10)\n",
    "\n",
    "xi[:NA] = dist1.rvs(NA)\n",
    "xi[NA:] = dist2.rvs(N - NA)\n",
    "\n",
    "x = np.linspace(-1, 11, 1000)\n",
    "fracA = NA * 1. / N\n",
    "\n",
    "#------------------------------------------------------------\n",
    "# define the (sigma, A) grid and compute logL\n",
    "sigma = np.linspace(0.5, 2, 70)\n",
    "A = np.linspace(0, 1, 70)\n",
    "\n",
    "logL = gausslin_logL(xi, A[:, np.newaxis], sigma)\n",
    "logL -= logL.max()\n",
    "\n",
    "#------------------------------------------------------------\n",
    "# Plot the results\n",
    "fig = plt.figure(figsize=(10, 15))\n",
    "fig.subplots_adjust(bottom=0.07, left=0.11, hspace=0.15, top=0.95)\n",
    "\n",
    "ax = fig.add_subplot(211)\n",
    "plt.imshow(logL, origin='lower', aspect='auto',\n",
    "           extent=(sigma[0], sigma[-1], A[0], A[-1]),\n",
    "           cmap=plt.cm.binary)\n",
    "plt.colorbar().set_label(r'$\\log(L)$')\n",
    "plt.clim(-5, 0)\n",
    "ax.set_xlabel(r'$\\sigma$')\n",
    "ax.set_ylabel(r'$A$')\n",
    "\n",
    "ax.text(0.5, 0.9, r'$L(\\sigma,A)\\ (\\mathrm{Gauss + bkgd},\\ n=200)$',\n",
    "        bbox=dict(ec='k', fc='w', alpha=0.9),\n",
    "        ha='center', va='center', transform=plt.gca().transAxes)\n",
    "\n",
    "ax.contour(sigma, A, convert_to_stdev(logL),\n",
    "           #levels=(0.683, 0.955, 0.997),\n",
    "           levels = (0.3, 0.5, 0.8),\n",
    "           colors='g')\n",
    "\n",
    "ax2 = plt.subplot(212)\n",
    "ax2.yaxis.set_major_locator(plt.MultipleLocator(0.1))\n",
    "ax2.plot(x, fracA * dist1.pdf(x) + (1. - fracA) * dist2.pdf(x), '-k')\n",
    "ax2.hist(xi, 30, density=True, histtype='stepfilled', fc='gray', alpha=0.5)\n",
    "\n",
    "ax2.set_ylim(0, 0.301)\n",
    "ax2.set_xlim(-1, 11)\n",
    "\n",
    "ax2.set_xlabel('$x$')\n",
    "ax2.set_ylabel('$p(x)$')\n",
    "plt.show()"
   ]
  },
  {
   "cell_type": "markdown",
   "metadata": {},
   "source": []
  },
  {
   "cell_type": "markdown",
   "metadata": {
    "slideshow": {
     "slide_type": "slide"
    }
   },
   "source": [
    "## Summary <a class=\"anchor\" id=\"fourth-bullet\"></a>\n",
    "\n",
    "At this point, all of you should have:\n",
    "* seen comparisons between the frequentist and Bayesian approach\n",
    "* seen plenty of example code\n",
    "* seen an example for modeling the mixture of two distributions"
   ]
  },
  {
   "cell_type": "code",
   "execution_count": null,
   "metadata": {},
   "outputs": [],
   "source": []
  }
 ],
 "metadata": {
  "anaconda-cloud": {},
  "kernelspec": {
   "display_name": "Python 3 (ipykernel)",
   "language": "python",
   "name": "python3"
  },
  "language_info": {
   "codemirror_mode": {
    "name": "ipython",
    "version": 3
   },
   "file_extension": ".py",
   "mimetype": "text/x-python",
   "name": "python",
   "nbconvert_exporter": "python",
   "pygments_lexer": "ipython3",
   "version": "3.7.12"
  }
 },
 "nbformat": 4,
 "nbformat_minor": 1
}
