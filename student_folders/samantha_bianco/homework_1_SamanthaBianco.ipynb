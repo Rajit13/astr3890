{
 "cells": [
  {
   "cell_type": "markdown",
   "metadata": {},
   "source": [
    "### ASTR 3890 - Selected Topics: Data Science for Large Astronomical Surveys (Spring 2022)\n",
    "***N. Hernitschek***\n",
    "___\n",
    "\n",
    "# Homework 1\n",
    "### Due: Monday, Jan 31th at 11.00am CST\n",
    "\n",
    "The completed lecture notebook must also be submitted by 11:00am Central Time on Jan 31th.\n",
    "\n",
    "---"
   ]
  },
  {
   "cell_type": "markdown",
   "metadata": {},
   "source": [
    "## Problem 1\n",
    "\n",
    "Practice your git and GitHub skills by submitting this homework via GitHub.  You can skip Steps 1-4 if you have already completed the in-class work of Lecture 1.  Steps 5-11 are the new steps.  \n",
    "\n",
    "\n",
    "1) Navigate to https://github.com/YOUR_USERNAME/astr3890 on your browser. **Don't clone this!** Instead, look to the rop right of the page for an option to fork the repository. Do this now. This will make a copy of the class repository for your own personal use.\n",
    "\n",
    "2) Now that you have a fork of the repository, clone it to your machine.\n",
    "\n",
    "    $ git clone https://github.com/YOUR_USERNAME/astr_3890\n",
    "\n",
    "3) Add the original `VanderbiltAstronomy` repository as an `upstream` repository to your fork. First, list the current configured remote repository for your fork with:\n",
    "\n",
    "    $ git remote -v\n",
    "    \n",
    "Now, add the `astr3890` repo as an upstream:\n",
    "\n",
    "    $ git remote add upstream https://github.com/ninahernitschek/astr3890\n",
    "    \n",
    "Verify that the new repository shows as an `upstream` by running `git remote -v` again.\n",
    "\n",
    "4) Get used to syncing upstream content to your fork with:\n",
    "\n",
    "    $ git fetch upstream\n",
    "    \n",
    "    $ git checkout main\n",
    "    \n",
    "    $ git merge upstream/main\n",
    "\n",
    "5) Now, navigate to the `student_folders` folder. Make a folder in here labeled by your name in all lowercase (i.e. `firstname_lastname`).\n",
    "\n",
    "6) Copy your completed lecture notebooks (with all exercises in red finished) to your folder, adding your name to the file (e.g. `lecture_1_FirstnameLastname.ipynb`). This is what you will do for each week's lecture notebooks to get participation credit. Your lecture notebooks should have already been copies of my base lecture notebooks. **Never** run my base notebooks; always make a personal copy for yourself.\n",
    "\n",
    "7) Copy the **Homework 1** notebook (this file) to your folder, adding your name (e.g. `homework_1_FirstnameLastname.ipynb`) \n",
    "\n",
    "8) Complete the other problems listed below.\n",
    "\n",
    "9) Submit your homework as follows (making sure that your added files are contained within your student folder):\n",
    "\n",
    "    $ git add homework_1_FirstnameLastname.ipynb\n",
    "    \n",
    "    $ git commit -a -m \"Uploaded Homework 1\"\n",
    "    \n",
    "    $ git push\n",
    "   \n",
    "10) Similarly add, commit, and push your completed lecture notebooks. \n",
    "\n",
    "11) On your browser, navigate on GitHub to your fork of the course repository. You should see an option to initiate a `pull request` to merge your changes into the `main` repository. Your homework and lecture notebooks for the week are submitted when you initiate this pull request."
   ]
  },
  {
   "cell_type": "markdown",
   "metadata": {},
   "source": [
    "## Problem 2\n",
    "\n",
    "1) Use `numpy` to draw $1000$ random samples from a uniform distribution between $0.1$ and $10$, and store these samples as $x$.\n",
    "\n",
    "2) Use matplotlib to make a histogram of these samples.\n",
    "\n",
    "3) Compute the base-10 log of your array $x$, and store this as $y$.\n",
    "\n",
    "4) Make another histogram for $y$.\n",
    "\n",
    "5) Compute the mean of $x$ and the mean of $y$. Now compute the median of $x$ and the median of $y$. You should note that the means are different, but the medians (as it is a cumulative statistic) are the same. The mean is affected by the scale of the sample values, but the median only depends on the ordering of the samples. Monotonic transformations (like taking the log) do not change the ordering of samples."
   ]
  },
  {
   "cell_type": "markdown",
   "metadata": {},
   "source": [
    "### Solution"
   ]
  },
  {
   "cell_type": "code",
   "execution_count": 19,
   "metadata": {},
   "outputs": [
    {
     "data": {
      "image/png": "[encoded data removed]",
      "text/plain": [
       "<Figure size 432x288 with 1 Axes>"
      ]
     },
     "metadata": {
      "needs_background": "light"
     },
     "output_type": "display_data"
    },
    {
     "data": {
      "image/png": "[encoded data removed]",
      "text/plain": [
       "<Figure size 432x288 with 1 Axes>"
      ]
     },
     "metadata": {
      "needs_background": "light"
     },
     "output_type": "display_data"
    },
    {
     "name": "stdout",
     "output_type": "stream",
     "text": [
      "Mean of x: 5.037604993880965\n",
      "Mean of y: 0.5852860369286828\n",
      "Adjusted mean of y: 3.848451669983457\n",
      "\n",
      "Median of x: 5.115564139747664\n",
      "Median of y: 0.7088935165269072\n",
      "Adjusted median of y: 5.1155639305326694\n"
     ]
    }
   ],
   "source": [
    "# Import needed libraries\n",
    "import numpy as np\n",
    "import matplotlib.pyplot as plt\n",
    "\n",
    "# 1 - Draw 1000 random samples from a uniform distribution between 0.1 and 10\n",
    "x = np.random.uniform(0.1, 10, 1000)\n",
    "\n",
    "# 2 - Make a histogram using samples from #1 \n",
    "plt.hist(x, bins=20, color='red')\n",
    "plt.show()\n",
    "\n",
    "# 3 - Compute base-10 log of NumPy array x\n",
    "y = np.log10(x)\n",
    "\n",
    "# 4 - Make a histogram for y\n",
    "plt.hist(y, bins=20, color='violet')\n",
    "plt.show()\n",
    "\n",
    "# 5\n",
    "# Compute means for x and y\n",
    "x_mean = np.mean(x)\n",
    "y_mean = np.mean(y)\n",
    "\n",
    "print(f'Mean of x: {x_mean}\\nMean of y: {y_mean}\\nAdjusted mean of y: {10**y_mean}\\n')\n",
    "\n",
    "# Compute medians for x and y\n",
    "x_med = np.median(x)\n",
    "y_med = np.median(y)\n",
    "      \n",
    "print(f'Median of x: {x_med}\\nMedian of y: {y_med}\\nAdjusted median of y: {10**y_med}')"
   ]
  }
 ],
 "metadata": {
  "anaconda-cloud": {},
  "kernelspec": {
   "display_name": "Python 3 (ipykernel)",
   "language": "python",
   "name": "python3"
  },
  "language_info": {
   "codemirror_mode": {
    "name": "ipython",
    "version": 3
   },
   "file_extension": ".py",
   "mimetype": "text/x-python",
   "name": "python",
   "nbconvert_exporter": "python",
   "pygments_lexer": "ipython3",
   "version": "3.8.12"
  }
 },
 "nbformat": 4,
 "nbformat_minor": 2
}
