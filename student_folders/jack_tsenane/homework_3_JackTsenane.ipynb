{
 "cells": [
  {
   "cell_type": "markdown",
   "metadata": {},
   "source": [
    "### ASTR 3890 - Selected Topics: Data Science for Large Astronomical Surveys (Spring 2022)\n",
    "***N. Hernitschek***\n",
    "___\n",
    "\n",
    "# Homework 3\n",
    "### Due: Monday, Feb 14th at 11.00am CST\n",
    "\n",
    "The completed lecture notebook must also be submitted by 11:00am Central Time on Feb 14th.\n",
    "\n",
    "---"
   ]
  },
  {
   "cell_type": "markdown",
   "metadata": {},
   "source": [
    "## Problem 1\n",
    "\n",
    "Consider a family with two children. Assume that the probability of females and males being born is equal, i.e. $p(F)=0.5$ and $p(M)=0.5$. Remember that \"given\" means your calculation is conditioned on some already fixed data or outcome. \n",
    "\n",
    "1) What is the probability of one male and one female **GIVEN** that the first child is male. \n",
    "\n",
    "2) What is the probability of two females **GIVEN** that at least one child is female.\n",
    "\n",
    "3) What is the probability of two females **GIVEN** that the older child is female.\n",
    "\n",
    "You will find it easiest to answer these questions by sketching a \"tree diagram\" to visualize the options for the oldest child, and the branching options for the youngest child. \n",
    "\n",
    "Either write your solution as Markdown/Latex below, or paste in a scanned image of your handwritten solution."
   ]
  },
  {
   "cell_type": "markdown",
   "metadata": {},
   "source": [
    "### Solution"
   ]
  },
  {
   "attachments": {
    "1acc883f-e60c-486a-b8de-0bb88b38b4d4.png": {
     "image/png": "[encoded data removed]"
    },
    "1c4eb0f2-8361-41ea-aff6-27d5ad7ba148.png": {
     "image/png": "[encoded data removed]"
    }
   },
   "cell_type": "markdown",
   "metadata": {},
   "source": [
    "![image.png](attachment:1acc883f-e60c-486a-b8de-0bb88b38b4d4.png)![image.png](attachment:1c4eb0f2-8361-41ea-aff6-27d5ad7ba148.png)\n",
    "\n",
    "\n",
    "Source: The Open Learn University. (n.d.). Probability. Everyday maths 2 (Wales). Retrieved February 12, 2022, from https://www.open.edu/openlearn/mod/oucontent/view.php?id=90853&section=7"
   ]
  },
  {
   "cell_type": "markdown",
   "metadata": {},
   "source": [
    "$P(A|B) = \\frac{P(A \\cap B)}{P(B)}$\n",
    "\n",
    "1.) $P(BG|\\textrm{ child 1} = B) = \\frac{P(BG \\cap \\textrm{ child 1} = B)}{P(child 1 = B)} = \\frac{1/4}{1/2} = \\frac{1}{2}$\n",
    "\n",
    "2.) $P(GG|>= 1 G) = \\frac{P(GG \\cap >= 1 G)}{P(>= 1 G)} = \\frac{1/4}{3/4} = \\frac{1}{3}$\n",
    "\n",
    "3.) $P(GG|\\textrm{ child 1} = G) = \\frac{P(GG \\cap \\textrm{ child 1} = G)}{P(child 1 = G)} = \\frac{1/4}{1/2} = \\frac{1}{2}$"
   ]
  },
  {
   "cell_type": "markdown",
   "metadata": {},
   "source": [
    "## Problem 2\n",
    "\n",
    "The data in hw3_populations.txt (source: scipy-lectures.org) describes the populations of hares and lynxes (and carrots) in northern Canada during 20 years:\n",
    "\n",
    "\n",
    "create a Python script to\n",
    "\n",
    "1. plot hw3_populations.txt (using matlab)\n",
    "\n",
    "\n",
    "2. calculate and output:\n",
    "\n",
    "    a) The mean, median and std of the populations of each species for the years in the period.\n",
    "    \n",
    "    b) The year each species had the largest population.\n",
    "    \n",
    "    c) The species that has the largest population for each year. (Hint: argsort & fancy indexing of np.array(['H', 'L', 'C']))\n",
    "    \n",
    "    d) The years were any of the populations is above 50000. (Hint: comparisons and np.any)\n",
    "    \n",
    "    e) The top 2 years for each species when they had the lowest populations. (Hint: argsort, fancy indexing)\n",
    "    \n",
    "    f) Compare (plot) the change in hare population (see help(np.gradient)) and the number of lynxes. Check correlation (see help(np.corrcoef)).\n",
    "\n"
   ]
  },
  {
   "cell_type": "markdown",
   "metadata": {},
   "source": [
    "### Solution\n",
    "\n"
   ]
  },
  {
   "cell_type": "markdown",
   "metadata": {},
   "source": [
    "1. plot hw3_populations.txt (using matlab)"
   ]
  },
  {
   "cell_type": "code",
   "execution_count": 1,
   "metadata": {},
   "outputs": [
    {
     "data": {
      "text/html": [
       "<style type=\"text/css\">\n",
       "</style>\n",
       "<table id=\"T_6efa7_\">\n",
       "  <thead>\n",
       "    <tr>\n",
       "      <th class=\"col_heading level0 col0\" ># year</th>\n",
       "      <th class=\"col_heading level0 col1\" >hare</th>\n",
       "      <th class=\"col_heading level0 col2\" >lynx</th>\n",
       "      <th class=\"col_heading level0 col3\" >carrot</th>\n",
       "    </tr>\n",
       "  </thead>\n",
       "  <tbody>\n",
       "    <tr>\n",
       "      <td id=\"T_6efa7_row0_col0\" class=\"data row0 col0\" >1900</td>\n",
       "      <td id=\"T_6efa7_row0_col1\" class=\"data row0 col1\" >30000</td>\n",
       "      <td id=\"T_6efa7_row0_col2\" class=\"data row0 col2\" >4000</td>\n",
       "      <td id=\"T_6efa7_row0_col3\" class=\"data row0 col3\" >48300</td>\n",
       "    </tr>\n",
       "    <tr>\n",
       "      <td id=\"T_6efa7_row1_col0\" class=\"data row1 col0\" >1901</td>\n",
       "      <td id=\"T_6efa7_row1_col1\" class=\"data row1 col1\" >47200</td>\n",
       "      <td id=\"T_6efa7_row1_col2\" class=\"data row1 col2\" >6100</td>\n",
       "      <td id=\"T_6efa7_row1_col3\" class=\"data row1 col3\" >48200</td>\n",
       "    </tr>\n",
       "    <tr>\n",
       "      <td id=\"T_6efa7_row2_col0\" class=\"data row2 col0\" >1902</td>\n",
       "      <td id=\"T_6efa7_row2_col1\" class=\"data row2 col1\" >70200</td>\n",
       "      <td id=\"T_6efa7_row2_col2\" class=\"data row2 col2\" >9800</td>\n",
       "      <td id=\"T_6efa7_row2_col3\" class=\"data row2 col3\" >41500</td>\n",
       "    </tr>\n",
       "    <tr>\n",
       "      <td id=\"T_6efa7_row3_col0\" class=\"data row3 col0\" >1903</td>\n",
       "      <td id=\"T_6efa7_row3_col1\" class=\"data row3 col1\" >77400</td>\n",
       "      <td id=\"T_6efa7_row3_col2\" class=\"data row3 col2\" >35200</td>\n",
       "      <td id=\"T_6efa7_row3_col3\" class=\"data row3 col3\" >38200</td>\n",
       "    </tr>\n",
       "    <tr>\n",
       "      <td id=\"T_6efa7_row4_col0\" class=\"data row4 col0\" >1904</td>\n",
       "      <td id=\"T_6efa7_row4_col1\" class=\"data row4 col1\" >36300</td>\n",
       "      <td id=\"T_6efa7_row4_col2\" class=\"data row4 col2\" >59400</td>\n",
       "      <td id=\"T_6efa7_row4_col3\" class=\"data row4 col3\" >40600</td>\n",
       "    </tr>\n",
       "    <tr>\n",
       "      <td id=\"T_6efa7_row5_col0\" class=\"data row5 col0\" >1905</td>\n",
       "      <td id=\"T_6efa7_row5_col1\" class=\"data row5 col1\" >20600</td>\n",
       "      <td id=\"T_6efa7_row5_col2\" class=\"data row5 col2\" >41700</td>\n",
       "      <td id=\"T_6efa7_row5_col3\" class=\"data row5 col3\" >39800</td>\n",
       "    </tr>\n",
       "    <tr>\n",
       "      <td id=\"T_6efa7_row6_col0\" class=\"data row6 col0\" >1906</td>\n",
       "      <td id=\"T_6efa7_row6_col1\" class=\"data row6 col1\" >18100</td>\n",
       "      <td id=\"T_6efa7_row6_col2\" class=\"data row6 col2\" >19000</td>\n",
       "      <td id=\"T_6efa7_row6_col3\" class=\"data row6 col3\" >38600</td>\n",
       "    </tr>\n",
       "    <tr>\n",
       "      <td id=\"T_6efa7_row7_col0\" class=\"data row7 col0\" >1907</td>\n",
       "      <td id=\"T_6efa7_row7_col1\" class=\"data row7 col1\" >21400</td>\n",
       "      <td id=\"T_6efa7_row7_col2\" class=\"data row7 col2\" >13000</td>\n",
       "      <td id=\"T_6efa7_row7_col3\" class=\"data row7 col3\" >42300</td>\n",
       "    </tr>\n",
       "    <tr>\n",
       "      <td id=\"T_6efa7_row8_col0\" class=\"data row8 col0\" >1908</td>\n",
       "      <td id=\"T_6efa7_row8_col1\" class=\"data row8 col1\" >22000</td>\n",
       "      <td id=\"T_6efa7_row8_col2\" class=\"data row8 col2\" >8300</td>\n",
       "      <td id=\"T_6efa7_row8_col3\" class=\"data row8 col3\" >44500</td>\n",
       "    </tr>\n",
       "    <tr>\n",
       "      <td id=\"T_6efa7_row9_col0\" class=\"data row9 col0\" >1909</td>\n",
       "      <td id=\"T_6efa7_row9_col1\" class=\"data row9 col1\" >25400</td>\n",
       "      <td id=\"T_6efa7_row9_col2\" class=\"data row9 col2\" >9100</td>\n",
       "      <td id=\"T_6efa7_row9_col3\" class=\"data row9 col3\" >42100</td>\n",
       "    </tr>\n",
       "    <tr>\n",
       "      <td id=\"T_6efa7_row10_col0\" class=\"data row10 col0\" >1910</td>\n",
       "      <td id=\"T_6efa7_row10_col1\" class=\"data row10 col1\" >27100</td>\n",
       "      <td id=\"T_6efa7_row10_col2\" class=\"data row10 col2\" >7400</td>\n",
       "      <td id=\"T_6efa7_row10_col3\" class=\"data row10 col3\" >46000</td>\n",
       "    </tr>\n",
       "    <tr>\n",
       "      <td id=\"T_6efa7_row11_col0\" class=\"data row11 col0\" >1911</td>\n",
       "      <td id=\"T_6efa7_row11_col1\" class=\"data row11 col1\" >40300</td>\n",
       "      <td id=\"T_6efa7_row11_col2\" class=\"data row11 col2\" >8000</td>\n",
       "      <td id=\"T_6efa7_row11_col3\" class=\"data row11 col3\" >46800</td>\n",
       "    </tr>\n",
       "    <tr>\n",
       "      <td id=\"T_6efa7_row12_col0\" class=\"data row12 col0\" >1912</td>\n",
       "      <td id=\"T_6efa7_row12_col1\" class=\"data row12 col1\" >57000</td>\n",
       "      <td id=\"T_6efa7_row12_col2\" class=\"data row12 col2\" >12300</td>\n",
       "      <td id=\"T_6efa7_row12_col3\" class=\"data row12 col3\" >43800</td>\n",
       "    </tr>\n",
       "    <tr>\n",
       "      <td id=\"T_6efa7_row13_col0\" class=\"data row13 col0\" >1913</td>\n",
       "      <td id=\"T_6efa7_row13_col1\" class=\"data row13 col1\" >76600</td>\n",
       "      <td id=\"T_6efa7_row13_col2\" class=\"data row13 col2\" >19500</td>\n",
       "      <td id=\"T_6efa7_row13_col3\" class=\"data row13 col3\" >40900</td>\n",
       "    </tr>\n",
       "    <tr>\n",
       "      <td id=\"T_6efa7_row14_col0\" class=\"data row14 col0\" >1914</td>\n",
       "      <td id=\"T_6efa7_row14_col1\" class=\"data row14 col1\" >52300</td>\n",
       "      <td id=\"T_6efa7_row14_col2\" class=\"data row14 col2\" >45700</td>\n",
       "      <td id=\"T_6efa7_row14_col3\" class=\"data row14 col3\" >39400</td>\n",
       "    </tr>\n",
       "    <tr>\n",
       "      <td id=\"T_6efa7_row15_col0\" class=\"data row15 col0\" >1915</td>\n",
       "      <td id=\"T_6efa7_row15_col1\" class=\"data row15 col1\" >19500</td>\n",
       "      <td id=\"T_6efa7_row15_col2\" class=\"data row15 col2\" >51100</td>\n",
       "      <td id=\"T_6efa7_row15_col3\" class=\"data row15 col3\" >39000</td>\n",
       "    </tr>\n",
       "    <tr>\n",
       "      <td id=\"T_6efa7_row16_col0\" class=\"data row16 col0\" >1916</td>\n",
       "      <td id=\"T_6efa7_row16_col1\" class=\"data row16 col1\" >11200</td>\n",
       "      <td id=\"T_6efa7_row16_col2\" class=\"data row16 col2\" >29700</td>\n",
       "      <td id=\"T_6efa7_row16_col3\" class=\"data row16 col3\" >36700</td>\n",
       "    </tr>\n",
       "    <tr>\n",
       "      <td id=\"T_6efa7_row17_col0\" class=\"data row17 col0\" >1917</td>\n",
       "      <td id=\"T_6efa7_row17_col1\" class=\"data row17 col1\" >7600</td>\n",
       "      <td id=\"T_6efa7_row17_col2\" class=\"data row17 col2\" >15800</td>\n",
       "      <td id=\"T_6efa7_row17_col3\" class=\"data row17 col3\" >41800</td>\n",
       "    </tr>\n",
       "    <tr>\n",
       "      <td id=\"T_6efa7_row18_col0\" class=\"data row18 col0\" >1918</td>\n",
       "      <td id=\"T_6efa7_row18_col1\" class=\"data row18 col1\" >14600</td>\n",
       "      <td id=\"T_6efa7_row18_col2\" class=\"data row18 col2\" >9700</td>\n",
       "      <td id=\"T_6efa7_row18_col3\" class=\"data row18 col3\" >43300</td>\n",
       "    </tr>\n",
       "    <tr>\n",
       "      <td id=\"T_6efa7_row19_col0\" class=\"data row19 col0\" >1919</td>\n",
       "      <td id=\"T_6efa7_row19_col1\" class=\"data row19 col1\" >16200</td>\n",
       "      <td id=\"T_6efa7_row19_col2\" class=\"data row19 col2\" >10100</td>\n",
       "      <td id=\"T_6efa7_row19_col3\" class=\"data row19 col3\" >41300</td>\n",
       "    </tr>\n",
       "    <tr>\n",
       "      <td id=\"T_6efa7_row20_col0\" class=\"data row20 col0\" >1920</td>\n",
       "      <td id=\"T_6efa7_row20_col1\" class=\"data row20 col1\" >24700</td>\n",
       "      <td id=\"T_6efa7_row20_col2\" class=\"data row20 col2\" >8600</td>\n",
       "      <td id=\"T_6efa7_row20_col3\" class=\"data row20 col3\" >47300</td>\n",
       "    </tr>\n",
       "  </tbody>\n",
       "</table>\n"
      ],
      "text/plain": [
       "<pandas.io.formats.style.Styler at 0x6b2b6d0>"
      ]
     },
     "metadata": {},
     "output_type": "display_data"
    },
    {
     "data": {
      "text/plain": [
       "<matplotlib.legend.Legend at 0x11e4fbb0>"
      ]
     },
     "execution_count": 1,
     "metadata": {},
     "output_type": "execute_result"
    },
    {
     "data": {
      "image/png": "[encoded data removed]",
      "text/plain": [
       "<Figure size 432x288 with 1 Axes>"
      ]
     },
     "metadata": {
      "needs_background": "light"
     },
     "output_type": "display_data"
    }
   ],
   "source": [
    "import numpy as np\n",
    "import pandas as pd\n",
    "url = 'https://raw.githubusercontent.com/scipy-lectures/scipy-lecture-notes/master/data/populations.txt'\n",
    "df = pd.read_table(url)\n",
    "df = df.astype('int32')\n",
    "display(df.style.hide_index())\n",
    "data = df.to_numpy()\n",
    "year, hares, lynxes, carrots = data.T  # trick: columns to variables\n",
    "\n",
    "import matplotlib.pyplot as plt\n",
    "plt.axes([0.2, 0.1, 0.5, 0.8]) \n",
    "\n",
    "plt.plot(year, hares, year, lynxes, year, carrots) \n",
    "\n",
    "plt.legend(('Hare', 'Lynx', 'Carrot'), loc=(1.05, 0.5)) "
   ]
  },
  {
   "cell_type": "markdown",
   "metadata": {},
   "source": [
    "2. calculate and output:"
   ]
  },
  {
   "cell_type": "code",
   "execution_count": 2,
   "metadata": {},
   "outputs": [],
   "source": [
    "def bold(str):\n",
    "    return \"\\033[1m\" + str + \"\\033[0m\" + \"\\n\"\n",
    "\n",
    "speciesList = ['hare','lynx','carrot']"
   ]
  },
  {
   "cell_type": "markdown",
   "metadata": {},
   "source": [
    "a) The mean, median and std of the populations of each species for the years in the period."
   ]
  },
  {
   "cell_type": "code",
   "execution_count": 3,
   "metadata": {},
   "outputs": [
    {
     "data": {
      "text/html": [
       "<div>\n",
       "<style scoped>\n",
       "    .dataframe tbody tr th:only-of-type {\n",
       "        vertical-align: middle;\n",
       "    }\n",
       "\n",
       "    .dataframe tbody tr th {\n",
       "        vertical-align: top;\n",
       "    }\n",
       "\n",
       "    .dataframe thead th {\n",
       "        text-align: right;\n",
       "    }\n",
       "</style>\n",
       "<table border=\"1\" class=\"dataframe\">\n",
       "  <thead>\n",
       "    <tr style=\"text-align: right;\">\n",
       "      <th></th>\n",
       "      <th>Mean</th>\n",
       "      <th>Median</th>\n",
       "      <th>STD</th>\n",
       "    </tr>\n",
       "  </thead>\n",
       "  <tbody>\n",
       "    <tr>\n",
       "      <th>hare</th>\n",
       "      <td>34080</td>\n",
       "      <td>25400</td>\n",
       "      <td>20897</td>\n",
       "    </tr>\n",
       "    <tr>\n",
       "      <th>lynx</th>\n",
       "      <td>20166</td>\n",
       "      <td>12300</td>\n",
       "      <td>16254</td>\n",
       "    </tr>\n",
       "    <tr>\n",
       "      <th>carrot</th>\n",
       "      <td>42400</td>\n",
       "      <td>41800</td>\n",
       "      <td>3322</td>\n",
       "    </tr>\n",
       "  </tbody>\n",
       "</table>\n",
       "</div>"
      ],
      "text/plain": [
       "         Mean  Median    STD\n",
       "hare    34080   25400  20897\n",
       "lynx    20166   12300  16254\n",
       "carrot  42400   41800   3322"
      ]
     },
     "execution_count": 3,
     "metadata": {},
     "output_type": "execute_result"
    }
   ],
   "source": [
    "a = df[speciesList].mean().astype(int)\n",
    "a = a.to_frame(name = \"Mean\")\n",
    "b = df[speciesList].median().astype(int)\n",
    "b = b.to_frame(name = \"Median\")\n",
    "c = df[speciesList].std(ddof=0).astype(int)\n",
    "c = c.to_frame(name = \"STD\")\n",
    "\n",
    "pd.concat([a, b, c], axis=1)"
   ]
  },
  {
   "cell_type": "markdown",
   "metadata": {},
   "source": [
    "b) The year each species had the largest population."
   ]
  },
  {
   "cell_type": "code",
   "execution_count": 4,
   "metadata": {},
   "outputs": [
    {
     "name": "stdout",
     "output_type": "stream",
     "text": [
      "\u001b[1mhare\u001b[0m\n",
      " 1903\n",
      "\u001b[1mlynx\u001b[0m\n",
      " 1904\n",
      "\u001b[1mcarrot\u001b[0m\n",
      " 1900\n"
     ]
    }
   ],
   "source": [
    "for species in speciesList:\n",
    "    dfSpeciesMax = df[df[species] == df[species].max()]\n",
    "    speciesMax = dfSpeciesMax['# year'].values[0]\n",
    "    print(bold(species),speciesMax)"
   ]
  },
  {
   "cell_type": "markdown",
   "metadata": {},
   "source": [
    "c) The species that has the largest population for each year. (Hint: argsort & fancy indexing of np.array(['H', 'L', 'C']))"
   ]
  },
  {
   "cell_type": "code",
   "execution_count": 5,
   "metadata": {},
   "outputs": [
    {
     "data": {
      "text/html": [
       "<style type=\"text/css\">\n",
       "</style>\n",
       "<table id=\"T_0225b_\">\n",
       "  <thead>\n",
       "    <tr>\n",
       "      <th class=\"col_heading level0 col0\" ># year</th>\n",
       "      <th class=\"col_heading level0 col1\" >largest population</th>\n",
       "    </tr>\n",
       "  </thead>\n",
       "  <tbody>\n",
       "    <tr>\n",
       "      <td id=\"T_0225b_row0_col0\" class=\"data row0 col0\" >1900</td>\n",
       "      <td id=\"T_0225b_row0_col1\" class=\"data row0 col1\" >carrot</td>\n",
       "    </tr>\n",
       "    <tr>\n",
       "      <td id=\"T_0225b_row1_col0\" class=\"data row1 col0\" >1901</td>\n",
       "      <td id=\"T_0225b_row1_col1\" class=\"data row1 col1\" >carrot</td>\n",
       "    </tr>\n",
       "    <tr>\n",
       "      <td id=\"T_0225b_row2_col0\" class=\"data row2 col0\" >1902</td>\n",
       "      <td id=\"T_0225b_row2_col1\" class=\"data row2 col1\" >hare</td>\n",
       "    </tr>\n",
       "    <tr>\n",
       "      <td id=\"T_0225b_row3_col0\" class=\"data row3 col0\" >1903</td>\n",
       "      <td id=\"T_0225b_row3_col1\" class=\"data row3 col1\" >hare</td>\n",
       "    </tr>\n",
       "    <tr>\n",
       "      <td id=\"T_0225b_row4_col0\" class=\"data row4 col0\" >1904</td>\n",
       "      <td id=\"T_0225b_row4_col1\" class=\"data row4 col1\" >lynx</td>\n",
       "    </tr>\n",
       "    <tr>\n",
       "      <td id=\"T_0225b_row5_col0\" class=\"data row5 col0\" >1905</td>\n",
       "      <td id=\"T_0225b_row5_col1\" class=\"data row5 col1\" >lynx</td>\n",
       "    </tr>\n",
       "    <tr>\n",
       "      <td id=\"T_0225b_row6_col0\" class=\"data row6 col0\" >1906</td>\n",
       "      <td id=\"T_0225b_row6_col1\" class=\"data row6 col1\" >carrot</td>\n",
       "    </tr>\n",
       "    <tr>\n",
       "      <td id=\"T_0225b_row7_col0\" class=\"data row7 col0\" >1907</td>\n",
       "      <td id=\"T_0225b_row7_col1\" class=\"data row7 col1\" >carrot</td>\n",
       "    </tr>\n",
       "    <tr>\n",
       "      <td id=\"T_0225b_row8_col0\" class=\"data row8 col0\" >1908</td>\n",
       "      <td id=\"T_0225b_row8_col1\" class=\"data row8 col1\" >carrot</td>\n",
       "    </tr>\n",
       "    <tr>\n",
       "      <td id=\"T_0225b_row9_col0\" class=\"data row9 col0\" >1909</td>\n",
       "      <td id=\"T_0225b_row9_col1\" class=\"data row9 col1\" >carrot</td>\n",
       "    </tr>\n",
       "    <tr>\n",
       "      <td id=\"T_0225b_row10_col0\" class=\"data row10 col0\" >1910</td>\n",
       "      <td id=\"T_0225b_row10_col1\" class=\"data row10 col1\" >carrot</td>\n",
       "    </tr>\n",
       "    <tr>\n",
       "      <td id=\"T_0225b_row11_col0\" class=\"data row11 col0\" >1911</td>\n",
       "      <td id=\"T_0225b_row11_col1\" class=\"data row11 col1\" >carrot</td>\n",
       "    </tr>\n",
       "    <tr>\n",
       "      <td id=\"T_0225b_row12_col0\" class=\"data row12 col0\" >1912</td>\n",
       "      <td id=\"T_0225b_row12_col1\" class=\"data row12 col1\" >hare</td>\n",
       "    </tr>\n",
       "    <tr>\n",
       "      <td id=\"T_0225b_row13_col0\" class=\"data row13 col0\" >1913</td>\n",
       "      <td id=\"T_0225b_row13_col1\" class=\"data row13 col1\" >hare</td>\n",
       "    </tr>\n",
       "    <tr>\n",
       "      <td id=\"T_0225b_row14_col0\" class=\"data row14 col0\" >1914</td>\n",
       "      <td id=\"T_0225b_row14_col1\" class=\"data row14 col1\" >hare</td>\n",
       "    </tr>\n",
       "    <tr>\n",
       "      <td id=\"T_0225b_row15_col0\" class=\"data row15 col0\" >1915</td>\n",
       "      <td id=\"T_0225b_row15_col1\" class=\"data row15 col1\" >lynx</td>\n",
       "    </tr>\n",
       "    <tr>\n",
       "      <td id=\"T_0225b_row16_col0\" class=\"data row16 col0\" >1916</td>\n",
       "      <td id=\"T_0225b_row16_col1\" class=\"data row16 col1\" >carrot</td>\n",
       "    </tr>\n",
       "    <tr>\n",
       "      <td id=\"T_0225b_row17_col0\" class=\"data row17 col0\" >1917</td>\n",
       "      <td id=\"T_0225b_row17_col1\" class=\"data row17 col1\" >carrot</td>\n",
       "    </tr>\n",
       "    <tr>\n",
       "      <td id=\"T_0225b_row18_col0\" class=\"data row18 col0\" >1918</td>\n",
       "      <td id=\"T_0225b_row18_col1\" class=\"data row18 col1\" >carrot</td>\n",
       "    </tr>\n",
       "    <tr>\n",
       "      <td id=\"T_0225b_row19_col0\" class=\"data row19 col0\" >1919</td>\n",
       "      <td id=\"T_0225b_row19_col1\" class=\"data row19 col1\" >carrot</td>\n",
       "    </tr>\n",
       "    <tr>\n",
       "      <td id=\"T_0225b_row20_col0\" class=\"data row20 col0\" >1920</td>\n",
       "      <td id=\"T_0225b_row20_col1\" class=\"data row20 col1\" >carrot</td>\n",
       "    </tr>\n",
       "  </tbody>\n",
       "</table>\n"
      ],
      "text/plain": [
       "<pandas.io.formats.style.Styler at 0x12f2f1f0>"
      ]
     },
     "metadata": {},
     "output_type": "display_data"
    }
   ],
   "source": [
    "df['largest population'] = df.idxmax(axis=1)\n",
    "display(df[['# year','largest population']].style.hide_index())"
   ]
  },
  {
   "cell_type": "markdown",
   "metadata": {},
   "source": [
    "d) The years were any of the populations is above 50000. (Hint: comparisons and np.any)"
   ]
  },
  {
   "cell_type": "code",
   "execution_count": 6,
   "metadata": {},
   "outputs": [
    {
     "data": {
      "text/html": [
       "<style type=\"text/css\">\n",
       "</style>\n",
       "<table id=\"T_2cb35_\">\n",
       "  <thead>\n",
       "    <tr>\n",
       "      <th class=\"col_heading level0 col0\" ># year</th>\n",
       "      <th class=\"col_heading level0 col1\" >hare</th>\n",
       "      <th class=\"col_heading level0 col2\" >lynx</th>\n",
       "      <th class=\"col_heading level0 col3\" >carrot</th>\n",
       "    </tr>\n",
       "  </thead>\n",
       "  <tbody>\n",
       "    <tr>\n",
       "      <td id=\"T_2cb35_row0_col0\" class=\"data row0 col0\" >1902</td>\n",
       "      <td id=\"T_2cb35_row0_col1\" class=\"data row0 col1\" >70200</td>\n",
       "      <td id=\"T_2cb35_row0_col2\" class=\"data row0 col2\" >9800</td>\n",
       "      <td id=\"T_2cb35_row0_col3\" class=\"data row0 col3\" >41500</td>\n",
       "    </tr>\n",
       "    <tr>\n",
       "      <td id=\"T_2cb35_row1_col0\" class=\"data row1 col0\" >1903</td>\n",
       "      <td id=\"T_2cb35_row1_col1\" class=\"data row1 col1\" >77400</td>\n",
       "      <td id=\"T_2cb35_row1_col2\" class=\"data row1 col2\" >35200</td>\n",
       "      <td id=\"T_2cb35_row1_col3\" class=\"data row1 col3\" >38200</td>\n",
       "    </tr>\n",
       "    <tr>\n",
       "      <td id=\"T_2cb35_row2_col0\" class=\"data row2 col0\" >1904</td>\n",
       "      <td id=\"T_2cb35_row2_col1\" class=\"data row2 col1\" >36300</td>\n",
       "      <td id=\"T_2cb35_row2_col2\" class=\"data row2 col2\" >59400</td>\n",
       "      <td id=\"T_2cb35_row2_col3\" class=\"data row2 col3\" >40600</td>\n",
       "    </tr>\n",
       "    <tr>\n",
       "      <td id=\"T_2cb35_row3_col0\" class=\"data row3 col0\" >1912</td>\n",
       "      <td id=\"T_2cb35_row3_col1\" class=\"data row3 col1\" >57000</td>\n",
       "      <td id=\"T_2cb35_row3_col2\" class=\"data row3 col2\" >12300</td>\n",
       "      <td id=\"T_2cb35_row3_col3\" class=\"data row3 col3\" >43800</td>\n",
       "    </tr>\n",
       "    <tr>\n",
       "      <td id=\"T_2cb35_row4_col0\" class=\"data row4 col0\" >1913</td>\n",
       "      <td id=\"T_2cb35_row4_col1\" class=\"data row4 col1\" >76600</td>\n",
       "      <td id=\"T_2cb35_row4_col2\" class=\"data row4 col2\" >19500</td>\n",
       "      <td id=\"T_2cb35_row4_col3\" class=\"data row4 col3\" >40900</td>\n",
       "    </tr>\n",
       "    <tr>\n",
       "      <td id=\"T_2cb35_row5_col0\" class=\"data row5 col0\" >1914</td>\n",
       "      <td id=\"T_2cb35_row5_col1\" class=\"data row5 col1\" >52300</td>\n",
       "      <td id=\"T_2cb35_row5_col2\" class=\"data row5 col2\" >45700</td>\n",
       "      <td id=\"T_2cb35_row5_col3\" class=\"data row5 col3\" >39400</td>\n",
       "    </tr>\n",
       "    <tr>\n",
       "      <td id=\"T_2cb35_row6_col0\" class=\"data row6 col0\" >1915</td>\n",
       "      <td id=\"T_2cb35_row6_col1\" class=\"data row6 col1\" >19500</td>\n",
       "      <td id=\"T_2cb35_row6_col2\" class=\"data row6 col2\" >51100</td>\n",
       "      <td id=\"T_2cb35_row6_col3\" class=\"data row6 col3\" >39000</td>\n",
       "    </tr>\n",
       "  </tbody>\n",
       "</table>\n"
      ],
      "text/plain": [
       "<pandas.io.formats.style.Styler at 0x12effad0>"
      ]
     },
     "metadata": {},
     "output_type": "display_data"
    }
   ],
   "source": [
    "m = (df[speciesList] >= 50000).any(1)\n",
    "cols = ['# year'] + speciesList\n",
    "display(df[cols].loc[m].style.hide_index())"
   ]
  },
  {
   "cell_type": "markdown",
   "metadata": {},
   "source": [
    "e) The top 2 years for each species when they had the lowest populations. (Hint: argsort, fancy indexing)"
   ]
  },
  {
   "cell_type": "code",
   "execution_count": 7,
   "metadata": {},
   "outputs": [
    {
     "name": "stdout",
     "output_type": "stream",
     "text": [
      "\u001b[1mhare\u001b[0m\n",
      "\n"
     ]
    },
    {
     "data": {
      "text/html": [
       "<style type=\"text/css\">\n",
       "</style>\n",
       "<table id=\"T_7d61b_\">\n",
       "  <thead>\n",
       "    <tr>\n",
       "      <th class=\"col_heading level0 col0\" ># year</th>\n",
       "      <th class=\"col_heading level0 col1\" >hare</th>\n",
       "      <th class=\"col_heading level0 col2\" >lynx</th>\n",
       "      <th class=\"col_heading level0 col3\" >carrot</th>\n",
       "    </tr>\n",
       "  </thead>\n",
       "  <tbody>\n",
       "    <tr>\n",
       "      <td id=\"T_7d61b_row0_col0\" class=\"data row0 col0\" >1917</td>\n",
       "      <td id=\"T_7d61b_row0_col1\" class=\"data row0 col1\" >7600</td>\n",
       "      <td id=\"T_7d61b_row0_col2\" class=\"data row0 col2\" >15800</td>\n",
       "      <td id=\"T_7d61b_row0_col3\" class=\"data row0 col3\" >41800</td>\n",
       "    </tr>\n",
       "    <tr>\n",
       "      <td id=\"T_7d61b_row1_col0\" class=\"data row1 col0\" >1916</td>\n",
       "      <td id=\"T_7d61b_row1_col1\" class=\"data row1 col1\" >11200</td>\n",
       "      <td id=\"T_7d61b_row1_col2\" class=\"data row1 col2\" >29700</td>\n",
       "      <td id=\"T_7d61b_row1_col3\" class=\"data row1 col3\" >36700</td>\n",
       "    </tr>\n",
       "  </tbody>\n",
       "</table>\n"
      ],
      "text/plain": [
       "<pandas.io.formats.style.Styler at 0x6b2ba70>"
      ]
     },
     "metadata": {},
     "output_type": "display_data"
    },
    {
     "name": "stdout",
     "output_type": "stream",
     "text": [
      "\u001b[1mlynx\u001b[0m\n",
      "\n"
     ]
    },
    {
     "data": {
      "text/html": [
       "<style type=\"text/css\">\n",
       "</style>\n",
       "<table id=\"T_b3c66_\">\n",
       "  <thead>\n",
       "    <tr>\n",
       "      <th class=\"col_heading level0 col0\" ># year</th>\n",
       "      <th class=\"col_heading level0 col1\" >hare</th>\n",
       "      <th class=\"col_heading level0 col2\" >lynx</th>\n",
       "      <th class=\"col_heading level0 col3\" >carrot</th>\n",
       "    </tr>\n",
       "  </thead>\n",
       "  <tbody>\n",
       "    <tr>\n",
       "      <td id=\"T_b3c66_row0_col0\" class=\"data row0 col0\" >1900</td>\n",
       "      <td id=\"T_b3c66_row0_col1\" class=\"data row0 col1\" >30000</td>\n",
       "      <td id=\"T_b3c66_row0_col2\" class=\"data row0 col2\" >4000</td>\n",
       "      <td id=\"T_b3c66_row0_col3\" class=\"data row0 col3\" >48300</td>\n",
       "    </tr>\n",
       "    <tr>\n",
       "      <td id=\"T_b3c66_row1_col0\" class=\"data row1 col0\" >1901</td>\n",
       "      <td id=\"T_b3c66_row1_col1\" class=\"data row1 col1\" >47200</td>\n",
       "      <td id=\"T_b3c66_row1_col2\" class=\"data row1 col2\" >6100</td>\n",
       "      <td id=\"T_b3c66_row1_col3\" class=\"data row1 col3\" >48200</td>\n",
       "    </tr>\n",
       "  </tbody>\n",
       "</table>\n"
      ],
      "text/plain": [
       "<pandas.io.formats.style.Styler at 0x12eff570>"
      ]
     },
     "metadata": {},
     "output_type": "display_data"
    },
    {
     "name": "stdout",
     "output_type": "stream",
     "text": [
      "\u001b[1mcarrot\u001b[0m\n",
      "\n"
     ]
    },
    {
     "data": {
      "text/html": [
       "<style type=\"text/css\">\n",
       "</style>\n",
       "<table id=\"T_c475d_\">\n",
       "  <thead>\n",
       "    <tr>\n",
       "      <th class=\"col_heading level0 col0\" ># year</th>\n",
       "      <th class=\"col_heading level0 col1\" >hare</th>\n",
       "      <th class=\"col_heading level0 col2\" >lynx</th>\n",
       "      <th class=\"col_heading level0 col3\" >carrot</th>\n",
       "    </tr>\n",
       "  </thead>\n",
       "  <tbody>\n",
       "    <tr>\n",
       "      <td id=\"T_c475d_row0_col0\" class=\"data row0 col0\" >1916</td>\n",
       "      <td id=\"T_c475d_row0_col1\" class=\"data row0 col1\" >11200</td>\n",
       "      <td id=\"T_c475d_row0_col2\" class=\"data row0 col2\" >29700</td>\n",
       "      <td id=\"T_c475d_row0_col3\" class=\"data row0 col3\" >36700</td>\n",
       "    </tr>\n",
       "    <tr>\n",
       "      <td id=\"T_c475d_row1_col0\" class=\"data row1 col0\" >1903</td>\n",
       "      <td id=\"T_c475d_row1_col1\" class=\"data row1 col1\" >77400</td>\n",
       "      <td id=\"T_c475d_row1_col2\" class=\"data row1 col2\" >35200</td>\n",
       "      <td id=\"T_c475d_row1_col3\" class=\"data row1 col3\" >38200</td>\n",
       "    </tr>\n",
       "  </tbody>\n",
       "</table>\n"
      ],
      "text/plain": [
       "<pandas.io.formats.style.Styler at 0x12eff8b0>"
      ]
     },
     "metadata": {},
     "output_type": "display_data"
    }
   ],
   "source": [
    "for species in speciesList:\n",
    "    print(bold(species))\n",
    "    display(df[cols].nsmallest(2, species).style.hide_index())"
   ]
  },
  {
   "cell_type": "markdown",
   "metadata": {},
   "source": [
    "    f) Compare (plot) the change in hare population (see help(np.gradient)) and the number of lynxes. Check correlation (see help(np.corrcoef))."
   ]
  },
  {
   "cell_type": "code",
   "execution_count": 8,
   "metadata": {},
   "outputs": [
    {
     "data": {
      "text/html": [
       "<div>\n",
       "<style scoped>\n",
       "    .dataframe tbody tr th:only-of-type {\n",
       "        vertical-align: middle;\n",
       "    }\n",
       "\n",
       "    .dataframe tbody tr th {\n",
       "        vertical-align: top;\n",
       "    }\n",
       "\n",
       "    .dataframe thead th {\n",
       "        text-align: right;\n",
       "    }\n",
       "</style>\n",
       "<table border=\"1\" class=\"dataframe\">\n",
       "  <thead>\n",
       "    <tr style=\"text-align: right;\">\n",
       "      <th></th>\n",
       "      <th>hareGradient</th>\n",
       "      <th>lynx</th>\n",
       "    </tr>\n",
       "  </thead>\n",
       "  <tbody>\n",
       "    <tr>\n",
       "      <th>hareGradient</th>\n",
       "      <td>1.000000</td>\n",
       "      <td>-0.917925</td>\n",
       "    </tr>\n",
       "    <tr>\n",
       "      <th>lynx</th>\n",
       "      <td>-0.917925</td>\n",
       "      <td>1.000000</td>\n",
       "    </tr>\n",
       "  </tbody>\n",
       "</table>\n",
       "</div>"
      ],
      "text/plain": [
       "              hareGradient      lynx\n",
       "hareGradient      1.000000 -0.917925\n",
       "lynx             -0.917925  1.000000"
      ]
     },
     "execution_count": 8,
     "metadata": {},
     "output_type": "execute_result"
    },
    {
     "data": {
      "image/png": "[encoded data removed]",
      "text/plain": [
       "<Figure size 432x288 with 1 Axes>"
      ]
     },
     "metadata": {
      "needs_background": "light"
     },
     "output_type": "display_data"
    }
   ],
   "source": [
    "#Get x and y\n",
    "df['hareGradient'] = np.gradient(df['hare'])\n",
    "x = df['hareGradient']\n",
    "y = df['lynx']\n",
    "\n",
    "#Plot scatter plot\n",
    "plt.scatter(x,y)\n",
    "plt.xlabel(\"Change in Hare Population\")\n",
    "plt.ylabel(\"Lynx Population\")\n",
    "\n",
    "#Plot line of best fit\n",
    "m, b = np.polyfit(x, y, 1)\n",
    "plt.plot(x, m*x + b, color=\"black\")\n",
    "\n",
    "#Get correlation matrix\n",
    "df[['hareGradient','lynx']].corr()"
   ]
  }
 ],
 "metadata": {
  "anaconda-cloud": {},
  "kernelspec": {
   "display_name": "Python 3 (ipykernel)",
   "language": "python",
   "name": "python3"
  },
  "language_info": {
   "codemirror_mode": {
    "name": "ipython",
    "version": 3
   },
   "file_extension": ".py",
   "mimetype": "text/x-python",
   "name": "python",
   "nbconvert_exporter": "python",
   "pygments_lexer": "ipython3",
   "version": "3.7.3"
  }
 },
 "nbformat": 4,
 "nbformat_minor": 4
}
