{
 "cells": [
  {
   "cell_type": "markdown",
   "metadata": {},
   "source": [
    "#### ASTR 3890 - Selected Topics: Data Science for Large Astronomical Surveys (Spring 2022)\n",
    "***N. Hernitschek***\n",
    "___\n",
    "\n",
    "# Homework 6\n",
    "### Due: Monday, Mar 14th at 11.00am CST\n",
    "\n",
    "The completed lecture notebook must also be submitted by 11:00am Central Time on March 14th (after Spring Break).\n",
    "\n",
    "---"
   ]
  },
  {
   "cell_type": "markdown",
   "metadata": {},
   "source": [
    "##### Problem 1\n",
    "\n",
    "**The Leavitt Law**\n",
    "\n",
    "Cepheid variable stars in galaxies follow a linear relation between their log periods, log metallicity, and apparent magnitude (the Leavitt law):\n",
    "\n",
    "$m_i^W = zp_{W,N4258} + b_W \\log P_i + Z_w \\Delta \\log (O/H)_i \\;\\;\\; (1)$\n",
    "\n",
    "where \n",
    "$m^W = m_H - 0.39(V-I)$\n",
    "\n",
    "and is called the \"Wesenheit magnitude\".\n",
    "\n",
    "The index $i$ here denotes the individual Cepheids in a sample.\n",
    "\n",
    "\n",
    "Download table 4 from Riess et al. (2016):\n",
    "\n",
    "https://ui.adsabs.harvard.edu/abs/2016yCat..18260056R/abstract\n",
    "\n",
    "You will find the tables here:\n",
    "https://cdsarc.cds.unistra.fr/viz-bin/cat/J/ApJ/826/56#/browse\n",
    "Table descriptions are in the readme file.\n",
    "\n",
    "Use the data for Cepheids in NGC 4258 from Table 4. Assuming that there is no intrinsic scatter in the Leavitt law, the parameters\n",
    "of Equation (1) can be determined through ordinary least squares. Determine the best-fit\n",
    "parameters $zp_{W,N4258}$, $b_W$, and $Z_w$ and their Gaussian covariance matrix. Plot the data $m^W_i$ vs. $\\log_{10} P_i$ and overlay the best fit model (evaluated at the mean metallicity of the sample).\n",
    "\n",
    "\n",
    "\n",
    "\n",
    "\n",
    "\n"
   ]
  },
  {
   "cell_type": "code",
   "execution_count": 1,
   "metadata": {},
   "outputs": [],
   "source": [
    "#Import all libraries for hw\n",
    "import numpy as np\n",
    "import pandas as pd\n",
    "import math\n",
    "from scipy.optimize import curve_fit\n",
    "import scipy\n",
    "import matplotlib.pyplot as plt\n",
    "from scipy import stats\n",
    "from scipy.stats import norm"
   ]
  },
  {
   "cell_type": "markdown",
   "metadata": {},
   "source": [
    "### Solution"
   ]
  },
  {
   "cell_type": "code",
   "execution_count": 2,
   "metadata": {},
   "outputs": [
    {
     "data": {
      "text/html": [
       "<style type=\"text/css\">\n",
       "</style>\n",
       "<table id=\"T_9e43a_\">\n",
       "  <thead>\n",
       "    <tr>\n",
       "      <th class=\"col_heading level0 col0\" >Field</th>\n",
       "      <th class=\"col_heading level0 col1\" >RAdeg</th>\n",
       "      <th class=\"col_heading level0 col2\" >DEdeg</th>\n",
       "      <th class=\"col_heading level0 col3\" >ID</th>\n",
       "      <th class=\"col_heading level0 col4\" >Per</th>\n",
       "      <th class=\"col_heading level0 col5\" >V-I</th>\n",
       "      <th class=\"col_heading level0 col6\" >F160W</th>\n",
       "      <th class=\"col_heading level0 col7\" >sigTot</th>\n",
       "      <th class=\"col_heading level0 col8\" >del log(O/H)</th>\n",
       "      <th class=\"col_heading level0 col9\" >logPi</th>\n",
       "    </tr>\n",
       "  </thead>\n",
       "  <tbody>\n",
       "    <tr>\n",
       "      <td id=\"T_9e43a_row0_col0\" class=\"data row0 col0\" >M101</td>\n",
       "      <td id=\"T_9e43a_row0_col1\" class=\"data row0 col1\" >210.879790</td>\n",
       "      <td id=\"T_9e43a_row0_col2\" class=\"data row0 col2\" >54.333760</td>\n",
       "      <td id=\"T_9e43a_row0_col3\" class=\"data row0 col3\" >115287</td>\n",
       "      <td id=\"T_9e43a_row0_col4\" class=\"data row0 col4\" >17.950000</td>\n",
       "      <td id=\"T_9e43a_row0_col5\" class=\"data row0 col5\" >0.960000</td>\n",
       "      <td id=\"T_9e43a_row0_col6\" class=\"data row0 col6\" >22.470000</td>\n",
       "      <td id=\"T_9e43a_row0_col7\" class=\"data row0 col7\" >0.300000</td>\n",
       "      <td id=\"T_9e43a_row0_col8\" class=\"data row0 col8\" >9.134000</td>\n",
       "      <td id=\"T_9e43a_row0_col9\" class=\"data row0 col9\" >1.254064</td>\n",
       "    </tr>\n",
       "    <tr>\n",
       "      <td id=\"T_9e43a_row1_col0\" class=\"data row1 col0\" >M101</td>\n",
       "      <td id=\"T_9e43a_row1_col1\" class=\"data row1 col1\" >210.891270</td>\n",
       "      <td id=\"T_9e43a_row1_col2\" class=\"data row1 col2\" >54.356200</td>\n",
       "      <td id=\"T_9e43a_row1_col3\" class=\"data row1 col3\" >136682</td>\n",
       "      <td id=\"T_9e43a_row1_col4\" class=\"data row1 col4\" >5.358000</td>\n",
       "      <td id=\"T_9e43a_row1_col5\" class=\"data row1 col5\" >1.060000</td>\n",
       "      <td id=\"T_9e43a_row1_col6\" class=\"data row1 col6\" >24.410000</td>\n",
       "      <td id=\"T_9e43a_row1_col7\" class=\"data row1 col7\" >0.570000</td>\n",
       "      <td id=\"T_9e43a_row1_col8\" class=\"data row1 col8\" >9.118000</td>\n",
       "      <td id=\"T_9e43a_row1_col9\" class=\"data row1 col9\" >0.729003</td>\n",
       "    </tr>\n",
       "    <tr>\n",
       "      <td id=\"T_9e43a_row2_col0\" class=\"data row2 col0\" >M101</td>\n",
       "      <td id=\"T_9e43a_row2_col1\" class=\"data row2 col1\" >210.892270</td>\n",
       "      <td id=\"T_9e43a_row2_col2\" class=\"data row2 col2\" >54.361250</td>\n",
       "      <td id=\"T_9e43a_row2_col3\" class=\"data row2 col3\" >148312</td>\n",
       "      <td id=\"T_9e43a_row2_col4\" class=\"data row2 col4\" >11.860000</td>\n",
       "      <td id=\"T_9e43a_row2_col5\" class=\"data row2 col5\" >1.070000</td>\n",
       "      <td id=\"T_9e43a_row2_col6\" class=\"data row2 col6\" >22.940000</td>\n",
       "      <td id=\"T_9e43a_row2_col7\" class=\"data row2 col7\" >0.320000</td>\n",
       "      <td id=\"T_9e43a_row2_col8\" class=\"data row2 col8\" >9.113000</td>\n",
       "      <td id=\"T_9e43a_row2_col9\" class=\"data row2 col9\" >1.074085</td>\n",
       "    </tr>\n",
       "    <tr>\n",
       "      <td id=\"T_9e43a_row3_col0\" class=\"data row3 col0\" >M101</td>\n",
       "      <td id=\"T_9e43a_row3_col1\" class=\"data row3 col1\" >210.893510</td>\n",
       "      <td id=\"T_9e43a_row3_col2\" class=\"data row3 col2\" >54.368260</td>\n",
       "      <td id=\"T_9e43a_row3_col3\" class=\"data row3 col3\" >164932</td>\n",
       "      <td id=\"T_9e43a_row3_col4\" class=\"data row3 col4\" >14.920000</td>\n",
       "      <td id=\"T_9e43a_row3_col5\" class=\"data row3 col5\" >1.130000</td>\n",
       "      <td id=\"T_9e43a_row3_col6\" class=\"data row3 col6\" >23.030000</td>\n",
       "      <td id=\"T_9e43a_row3_col7\" class=\"data row3 col7\" >0.320000</td>\n",
       "      <td id=\"T_9e43a_row3_col8\" class=\"data row3 col8\" >9.105000</td>\n",
       "      <td id=\"T_9e43a_row3_col9\" class=\"data row3 col9\" >1.173769</td>\n",
       "    </tr>\n",
       "    <tr>\n",
       "      <td id=\"T_9e43a_row4_col0\" class=\"data row4 col0\" >M101</td>\n",
       "      <td id=\"T_9e43a_row4_col1\" class=\"data row4 col1\" >210.879820</td>\n",
       "      <td id=\"T_9e43a_row4_col2\" class=\"data row4 col2\" >54.335650</td>\n",
       "      <td id=\"T_9e43a_row4_col3\" class=\"data row4 col3\" >121146</td>\n",
       "      <td id=\"T_9e43a_row4_col4\" class=\"data row4 col4\" >11.860000</td>\n",
       "      <td id=\"T_9e43a_row4_col5\" class=\"data row4 col5\" >0.960000</td>\n",
       "      <td id=\"T_9e43a_row4_col6\" class=\"data row4 col6\" >23.140000</td>\n",
       "      <td id=\"T_9e43a_row4_col7\" class=\"data row4 col7\" >0.450000</td>\n",
       "      <td id=\"T_9e43a_row4_col8\" class=\"data row4 col8\" >9.136000</td>\n",
       "      <td id=\"T_9e43a_row4_col9\" class=\"data row4 col9\" >1.074085</td>\n",
       "    </tr>\n",
       "  </tbody>\n",
       "</table>\n"
      ],
      "text/plain": [
       "<pandas.io.formats.style.Styler at 0x1a264ed0>"
      ]
     },
     "metadata": {},
     "output_type": "display_data"
    }
   ],
   "source": [
    "#Read in cepheid NGC 4258 datat\n",
    "url = 'https://cdsarc.cds.unistra.fr/ftp/J/ApJ/826/56/table4.dat'\n",
    "col = [\"Field\", \"RAdeg\", \"DEdeg\", \"ID\", \"Per\", \"V-I\", \"F160W\", \"sigTot\", \"del log(O/H)\"]\n",
    "df = pd.read_table(url, names = col, delim_whitespace=True)\n",
    "df[\"logPi\"]=df[\"Per\"].apply(lambda x: math.log10(x))\n",
    "display(df.iloc[:5].style.hide_index())"
   ]
  },
  {
   "cell_type": "code",
   "execution_count": 3,
   "metadata": {},
   "outputs": [
    {
     "name": "stdout",
     "output_type": "stream",
     "text": [
      "Parameters (𝑧𝑝𝑊,𝑁4258, 𝑏𝑊, and 𝑍𝑤): \n",
      " [23.75988994  3.29303047 -0.59523081]\n",
      "Covariance matrix: \n",
      " [[ 9.01640447 -0.12791561 -0.99250138]\n",
      " [-0.12791561  0.02722505  0.01036107]\n",
      " [-0.99250138  0.01036107  0.10983245]]\n"
     ]
    }
   ],
   "source": [
    "#Fit parameters to model Leavitt law model\n",
    "def leavitt_law(x, zp, b, zw):\n",
    "    pwi = x[0]\n",
    "    OH = x[1]\n",
    "    return zp + b * pwi + zw * OH\n",
    "\n",
    "y = df[\"F160W\"].values\n",
    "x = [df[\"logPi\"].values,df[\"del log(O/H)\"].values]\n",
    "popt, pcov = curve_fit(leavitt_law, x, y)\n",
    "\n",
    "print(\"Parameters (𝑧𝑝𝑊,𝑁4258, 𝑏𝑊, and 𝑍𝑤): \\n\", popt)\n",
    "print(\"Covariance matrix: \\n\",pcov)"
   ]
  },
  {
   "cell_type": "code",
   "execution_count": 4,
   "metadata": {},
   "outputs": [
    {
     "data": {
      "text/plain": [
       "<matplotlib.legend.Legend at 0x1c349f10>"
      ]
     },
     "execution_count": 4,
     "metadata": {},
     "output_type": "execute_result"
    },
    {
     "data": {
      "image/png": "[encoded data removed]",
      "text/plain": [
       "<Figure size 432x288 with 1 Axes>"
      ]
     },
     "metadata": {
      "needs_background": "light"
     },
     "output_type": "display_data"
    }
   ],
   "source": [
    "#Predicted Wesenheit magnitude values at mean metallicity\n",
    "meanMetallicity = df[\"del log(O/H)\"].mean()\n",
    "zp = popt[0]\n",
    "b = popt[1]\n",
    "zw = popt[2]\n",
    "df[\"predictedF160W@mean\"] =df[\"logPi\"].apply(lambda logPi: leavitt_law([logPi, meanMetallicity], zp, b, zw))\n",
    "\n",
    "#Plot actual Wesenheit magnitude values\n",
    "x = df[\"logPi\"]\n",
    "y = df[\"F160W\"]\n",
    "plt.scatter(x,y)\n",
    "\n",
    "#Plot predicted Wesenheit magnitude values\n",
    "yPredictedAtMean = df[\"predictedF160W@mean\"]                                              \n",
    "plt.scatter(x,yPredictedAtMean)\n",
    "plt.ylabel(\"Wesenheit magnitude\")\n",
    "plt.xlabel(\"log(period)\")\n",
    "plt.legend(['Actual Wesenheit', 'Predicted Wesenheit at mean [O/H]'])"
   ]
  },
  {
   "cell_type": "markdown",
   "metadata": {},
   "source": [
    "## Problem 2\n",
    "\n",
    "**Posterior probability distribution of binomial distribution**\n",
    "\n",
    "Given a set of $N$ measurements, $x_i$, drawn from a binomial distribution described with parameter $b$, we seek the posterior probability distribution $p(b|x_i)$.\n",
    "\n",
    "When $N$ is large, $b$ and its (presumably Gaussian) uncertainty $\\sigma_b$ can be determined using the equation above. For small $N$, the proper procedure is as follows. Assuming that the prior for $b$ is at in the range 0-1, the posterior probability for $b$ is\n",
    "\n",
    "$$p(b|k,N) = C b^k (1-b)^{N-k}$$\n",
    "\n",
    "where $k$ is now the actual observed number of successes in a data set of $N$ values, and $C$ is a normalization factor with can be determined from the condition\n",
    "\n",
    "$$\\int_0 ^1 p(b|k,N)db=1.$$\n",
    "\n",
    "The maximum posterior occurs at $b_0 = k/N$.\n",
    "\n",
    "Write code for calculating the posterior distribution.\n",
    "Vary the value $b$ and draw the resulted posterior probability distribution from our data set. \n",
    "\n",
    "In comparison, also calculate a Gaussian distribution from the same data set.\n"
   ]
  },
  {
   "cell_type": "markdown",
   "metadata": {},
   "source": [
    "### Solution\n",
    "\n"
   ]
  },
  {
   "cell_type": "code",
   "execution_count": 5,
   "metadata": {},
   "outputs": [
    {
     "data": {
      "text/plain": [
       "<matplotlib.legend.Legend at 0x1e416e50>"
      ]
     },
     "execution_count": 5,
     "metadata": {},
     "output_type": "execute_result"
    },
    {
     "data": {
      "image/png": "[encoded data removed]",
      "text/plain": [
       "<Figure size 432x288 with 1 Axes>"
      ]
     },
     "metadata": {
      "needs_background": "light"
     },
     "output_type": "display_data"
    }
   ],
   "source": [
    "#Set parameters\n",
    "k = 5\n",
    "N = 7\n",
    "\n",
    "#Posterior PDF calculation\n",
    "def posteriorForm(b, k, N):\n",
    "    return (b**k)*(1-b)**(N-k)\n",
    "    \n",
    "def posteriorDist(N, k):\n",
    "    stepSize = .001\n",
    "    bList = np.arange(0,1,stepSize)\n",
    "    yValue = []\n",
    "    for b in bList:\n",
    "        yValue.append(posteriorForm(b, k, N))\n",
    "    yValue = yValue/(sum(yValue)*stepSize)\n",
    "    return bList, yValue\n",
    "\n",
    "x,y =posteriorDist(N, k)\n",
    "\n",
    "#Guassian approxmation of PDF\n",
    "def normal_dist(x,mean,sd):\n",
    "    a = 1/(sd*math.sqrt(2*np.pi))\n",
    "    b = np.exp(-0.5*((x-mean)/sd)**2)\n",
    "    return a*b\n",
    "\n",
    "b0   = k/N #Used to make starting guess for mean\n",
    "popt, pcov = curve_fit(normal_dist, x, y, p0 = [b0,.1])\n",
    "mean = popt[0]\n",
    "sd   = popt[1]\n",
    "pdf  = stats.norm(mean, sd).pdf(x)\n",
    "\n",
    "\n",
    "#Plotting\n",
    "plt.plot(x,y) #posterior \n",
    "plt.plot(x, pdf, '--') #Gaussian approximation\n",
    "plt.title(\"posterior probability distribution from our data set\")\n",
    "plt.xlabel(\"b values\")\n",
    "plt.ylabel(\"density\")\n",
    "plt.legend(['Calculated posterior PDF', 'Gaussian fit to PDF'])"
   ]
  },
  {
   "cell_type": "code",
   "execution_count": 6,
   "metadata": {},
   "outputs": [
    {
     "data": {
      "text/plain": [
       "Text(0, 0.5, 'density')"
      ]
     },
     "execution_count": 6,
     "metadata": {},
     "output_type": "execute_result"
    },
    {
     "data": {
      "image/png": "[encoded data removed]",
      "text/plain": [
       "<Figure size 432x288 with 1 Axes>"
      ]
     },
     "metadata": {
      "needs_background": "light"
     },
     "output_type": "display_data"
    }
   ],
   "source": [
    "#Showing distribution after building random binomial dataset\n",
    "k = 50\n",
    "N = 1000000\n",
    "b = 0.43\n",
    "\n",
    "#Plot histogram of dataset\n",
    "randDataset = np.random.binomial(k, b, N)\n",
    "plt.hist(randDataset, bins = 30, density=True)\n",
    "\n",
    "#Plot a fitted Gaussian\n",
    "F_fit = np.linspace(0, k)\n",
    "pdf = stats.norm(np.mean(randDataset), np.std(randDataset)).pdf(F_fit)\n",
    "plt.plot(F_fit, pdf, '-k')\n",
    "plt.xlabel(\"successes\")\n",
    "plt.ylabel(\"density\")"
   ]
  }
 ],
 "metadata": {
  "anaconda-cloud": {},
  "kernelspec": {
   "display_name": "Python 3 (ipykernel)",
   "language": "python",
   "name": "python3"
  },
  "language_info": {
   "codemirror_mode": {
    "name": "ipython",
    "version": 3
   },
   "file_extension": ".py",
   "mimetype": "text/x-python",
   "name": "python",
   "nbconvert_exporter": "python",
   "pygments_lexer": "ipython3",
   "version": "3.7.3"
  }
 },
 "nbformat": 4,
 "nbformat_minor": 4
}
