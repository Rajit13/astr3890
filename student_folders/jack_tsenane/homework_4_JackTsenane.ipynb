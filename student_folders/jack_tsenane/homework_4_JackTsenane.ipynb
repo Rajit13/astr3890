{
 "cells": [
  {
   "cell_type": "markdown",
   "metadata": {},
   "source": [
    "#### ASTR 3890 - Selected Topics: Data Science for Large Astronomical Surveys (Spring 2022)\n",
    "***N. Hernitschek***\n",
    "___\n",
    "\n",
    "# Homework 4\n",
    "### Due: Monday, Feb 21th at 11.00am CST\n",
    "\n",
    "The completed lecture notebook must also be submitted by 11:00am Central Time on Feb 21th.\n",
    "\n",
    "---"
   ]
  },
  {
   "cell_type": "markdown",
   "metadata": {},
   "source": [
    "## Problem 1\n",
    "\n",
    "Let $\\mu$ be a real number. Let $\\sigma$ be a strictly positive real number.\n",
    "\n",
    "Show that for a Gaussian distribution $\\mathscr{N}(\\mu,\\sigma)$, the mode is its mean $\\mu$.\n",
    "\n",
    "Either write your solution as Markdown/Latex below, or paste in a scanned image of your handwritten solution."
   ]
  },
  {
   "cell_type": "markdown",
   "metadata": {},
   "source": [
    "### Solution"
   ]
  },
  {
   "cell_type": "markdown",
   "metadata": {},
   "source": [
    "<center>x at $\\frac{d}{d(x)} h(x) = 0$ is the mode where $h(x) = \\frac{1}{\\sigma \\sqrt{2\\pi}}e^{\\frac{-(x-\\mu)^2}{2\\sigma^2}}$</center>\n",
    "\n",
    "<center>Plugging in h(x):</center>\n",
    "\n",
    "<center>$0 = \\frac{d}{d(x)} (\\frac{1}{\\sigma \\sqrt{2\\pi}}e^{\\frac{-(x-\\mu)^2}{2\\sigma^2}})$\n",
    "$= \\frac{1}{\\sigma \\sqrt{2\\pi}}e^{\\frac{-(x-\\mu)^2}{2\\sigma^2}} \\frac{d}{d(x)}(\\frac{-(x-\\mu)^2}{2\\sigma^2})$\n",
    "$= \\frac{1}{\\sigma \\sqrt{2\\pi}}e^{\\frac{-(x-\\mu)^2}{2\\sigma^2}} \\frac{-2(x-\\mu)}{2\\sigma^2} dx$\n",
    "$= \\frac{1}{\\sigma \\sqrt{2\\pi}}e^{\\frac{-(x-\\mu)^2}{2\\sigma^2}} \\frac{(\\mu-x)}{\\sigma^2} dx$</center>\n",
    "\n",
    "<center>Solving for x:</center>\n",
    "\n",
    "<center>$0 = \\frac{(\\mu-x)}{\\sigma^2}$</center>\n",
    "\n",
    "<center>$\\mu = x $</center>"
   ]
  },
  {
   "cell_type": "markdown",
   "metadata": {},
   "source": [
    "## Problem 2\n",
    "\n",
    "This question is about IQ. It's a flawed and questionable metric, but useful for this problem. By definition, IQ is calibrated as a Gaussian distribution with $\\mu=100$ and $\\sigma=15$. \n",
    "\n",
    " 1) Create a `scipy.stats` Gaussian object with the given $\\mu$ and $\\sigma$. a) Plot the distribution, b) give 10 random draws, along with the pdf at each of the draws.\n",
    "\n",
    "2) Access the `cdf` property of the Gaussian object and plot it over the same $x$-range as in (1) but in a different figure. Access the `ppf` property (percent point function) and use *inverse transform sampling* of the cdf to draw $10^4$ random samples, and make a histogram of these. Overplot the pdf from (1). These should match.\n",
    "\n",
    "3) What fraction of people have IQ > 130? *Hint: investigate all the properties of the Gaussian object from (1) to find the relevant property that gives you this, or perform a calculation involving the cdf.*\n",
    "\n",
    "4) What IQ corresponds to \"one in a million\"?\n",
    "\n"
   ]
  },
  {
   "cell_type": "markdown",
   "metadata": {},
   "source": [
    "### Solution\n",
    "\n"
   ]
  },
  {
   "cell_type": "markdown",
   "metadata": {},
   "source": [
    "This question is about IQ. It's a flawed and questionable metric, but useful for this problem. By definition, IQ is calibrated as a Gaussian distribution with $\\mu=100$ and $\\sigma=15$. \n",
    "\n",
    "1) Create a `scipy.stats` Gaussian object with the given $\\mu$ and $\\sigma$.\n",
    "\n",
    "    a) Plot the distribution"
   ]
  },
  {
   "cell_type": "code",
   "execution_count": 1,
   "metadata": {},
   "outputs": [
    {
     "data": {
      "text/plain": [
       "<matplotlib.legend.Legend at 0x1a1b5b50>"
      ]
     },
     "execution_count": 1,
     "metadata": {},
     "output_type": "execute_result"
    },
    {
     "data": {
      "image/png": "[encoded data removed]",
      "text/plain": [
       "<Figure size 360x270 with 1 Axes>"
      ]
     },
     "metadata": {
      "needs_background": "light"
     },
     "output_type": "display_data"
    }
   ],
   "source": [
    "import scipy.stats\n",
    "from scipy.stats import norm\n",
    "from scipy.stats import uniform\n",
    "import matplotlib.pyplot as plt\n",
    "import numpy as np\n",
    "\n",
    "distG = scipy.stats.norm(100,15) # Normal distribution with mean = 100, stdev = 15\n",
    "\n",
    "#Get range\n",
    "mu = distG.mean()\n",
    "sigma = distG.std()\n",
    "lowRange = mu - 5*sigma\n",
    "upRange = mu + 5*sigma\n",
    "\n",
    "## Plot a Gaussian Distribution\n",
    "xgrid = np.linspace(lowRange,upRange,100) # generate distribution for a uniform grid of x values\n",
    "gaussPDF = distG.pdf(xgrid)  # this is a function of xgrid\n",
    "# actual plotting\n",
    "fig1, ax = plt.subplots(figsize=(5, 3.75))\n",
    "\n",
    "# Python3 f strings are awesome!\n",
    "plt.plot(xgrid, gaussPDF, ls='-', c='black', \n",
    "         label=f'$\\mu={mu},\\ \\sigma={sigma}$')\n",
    "plt.xlim(0, 200)\n",
    "plt.ylim(0, 0.03)\n",
    "plt.xlabel('IQ')\n",
    "plt.ylabel(r'$p(x|\\mu,\\sigma)$')\n",
    "plt.title('Gaussian Distribution')\n",
    "plt.legend()"
   ]
  },
  {
   "cell_type": "markdown",
   "metadata": {},
   "source": [
    "     b) give 10 random draws, along with the pdf at each of the draws."
   ]
  },
  {
   "cell_type": "code",
   "execution_count": 2,
   "metadata": {},
   "outputs": [
    {
     "name": "stdout",
     "output_type": "stream",
     "text": [
      "[ 93.0718481  114.56070544 121.15204481 101.33859077  94.86900025\n",
      "  74.93244046  92.98637215 102.47905886  69.56365124 122.38222327]\n",
      "[0.02390533 0.01660367 0.00984068 0.02649046 0.02508479 0.00658215\n",
      " 0.02384211 0.02623539 0.00339452 0.00873653]\n"
     ]
    }
   ],
   "source": [
    "draws = distG.rvs(10) # 10 random draws\n",
    "print(draws)\n",
    "pdfAtDraw = distG.pdf(draws)\n",
    "print(pdfAtDraw)"
   ]
  },
  {
   "cell_type": "markdown",
   "metadata": {},
   "source": [
    "2) Access the `cdf` property of the Gaussian object and plot it over the same $x$-range as in (1) but in a different figure. Access the `ppf` property (percent point function) and use *inverse transform sampling* of the cdf to draw $10^4$ random samples, and make a histogram of these. Overplot the pdf from (1). These should match."
   ]
  },
  {
   "cell_type": "code",
   "execution_count": 3,
   "metadata": {},
   "outputs": [
    {
     "data": {
      "text/plain": [
       "<matplotlib.legend.Legend at 0x1b3cdfb0>"
      ]
     },
     "execution_count": 3,
     "metadata": {},
     "output_type": "execute_result"
    },
    {
     "data": {
      "image/png": "[encoded data removed]",
      "text/plain": [
       "<Figure size 360x270 with 1 Axes>"
      ]
     },
     "metadata": {
      "needs_background": "light"
     },
     "output_type": "display_data"
    }
   ],
   "source": [
    "#Get range\n",
    "mu = distG.mean()\n",
    "sigma = distG.std()\n",
    "lowRange = mu - 5*sigma\n",
    "upRange = mu + 5*sigma\n",
    "\n",
    "## Plot a Gaussian Distribution\n",
    "xgrid = np.linspace(lowRange,upRange,100) # generate distribution for a uniform grid of x values\n",
    "gaussCDF = distG.cdf(xgrid)  # this is a function of xgrid\n",
    "# actual plotting\n",
    "fig2, ax = plt.subplots(figsize=(5, 3.75))\n",
    "\n",
    "# Python3 f strings are awesome!\n",
    "plt.plot(xgrid, gaussCDF, ls='-', c='black', \n",
    "         label=f'$\\mu={mu},\\ \\sigma={sigma}$')\n",
    "plt.xlim(0, 200)\n",
    "plt.ylim(0, 1.1)\n",
    "plt.xlabel('IQ')\n",
    "plt.ylabel(r'$p(x|\\mu,\\sigma)$')\n",
    "plt.title('Gaussian Distribution CDF')\n",
    "plt.legend()"
   ]
  },
  {
   "cell_type": "code",
   "execution_count": 4,
   "metadata": {},
   "outputs": [
    {
     "data": {
      "text/plain": [
       "Text(0, 0.5, '$p(x|\\\\mu,\\\\sigma)$')"
      ]
     },
     "execution_count": 4,
     "metadata": {},
     "output_type": "execute_result"
    },
    {
     "data": {
      "image/png": "[encoded data removed]",
      "text/plain": [
       "<Figure size 432x288 with 1 Axes>"
      ]
     },
     "metadata": {
      "needs_background": "light"
     },
     "output_type": "display_data"
    }
   ],
   "source": [
    "xValues = distG.ppf(uniform().rvs(10000))\n",
    "plt.plot(xgrid, gaussPDF, ls='-', c='black',  label=f'$\\mu={mu},\\ \\sigma={sigma}$')\n",
    "plt.hist(xValues, density=True, bins = 50)\n",
    "plt.xlabel('IQ')\n",
    "plt.ylabel(r'$p(x|\\mu,\\sigma)$')\n"
   ]
  },
  {
   "cell_type": "markdown",
   "metadata": {},
   "source": [
    "3) What fraction of people have IQ > 130? *Hint: investigate all the properties of the Gaussian object from (1) to find the relevant property that gives you this, or perform a calculation involving the cdf.*"
   ]
  },
  {
   "cell_type": "code",
   "execution_count": 5,
   "metadata": {},
   "outputs": [
    {
     "name": "stdout",
     "output_type": "stream",
     "text": [
      "2.275 % of the population has an IQ >130\n"
     ]
    }
   ],
   "source": [
    "frac = ((1-distG.cdf(130))*100).round(3)\n",
    "print(frac, \"% of the population has an IQ >130\")"
   ]
  },
  {
   "cell_type": "markdown",
   "metadata": {},
   "source": [
    "4) What IQ corresponds to \"one in a million\"?"
   ]
  },
  {
   "cell_type": "code",
   "execution_count": 6,
   "metadata": {},
   "outputs": [
    {
     "name": "stdout",
     "output_type": "stream",
     "text": [
      "One in a million low IQ:  28.7\n",
      "One in a million high IQ:  171.3\n"
     ]
    }
   ],
   "source": [
    "print(\"One in a million low IQ: \", distG.ppf(1/1000000).round(2))\n",
    "print(\"One in a million high IQ: \", distG.ppf(1-1/1000000).round(2))"
   ]
  }
 ],
 "metadata": {
  "anaconda-cloud": {},
  "kernelspec": {
   "display_name": "Python 3 (ipykernel)",
   "language": "python",
   "name": "python3"
  },
  "language_info": {
   "codemirror_mode": {
    "name": "ipython",
    "version": 3
   },
   "file_extension": ".py",
   "mimetype": "text/x-python",
   "name": "python",
   "nbconvert_exporter": "python",
   "pygments_lexer": "ipython3",
   "version": "3.7.3"
  }
 },
 "nbformat": 4,
 "nbformat_minor": 4
}
