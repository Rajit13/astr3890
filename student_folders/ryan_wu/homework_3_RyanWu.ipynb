{
 "cells": [
  {
   "cell_type": "markdown",
   "metadata": {},
   "source": [
    "### ASTR 3890 - Selected Topics: Data Science for Large Astronomical Surveys (Spring 2022)\n",
    "***N. Hernitschek***\n",
    "___\n",
    "\n",
    "# Homework 3\n",
    "### Due: Monday, Feb 14th at 11.00am CST\n",
    "\n",
    "The completed lecture notebook must also be submitted by 11:00am Central Time on Feb 14th.\n",
    "\n",
    "---"
   ]
  },
  {
   "cell_type": "markdown",
   "metadata": {},
   "source": [
    "## Problem 1\n",
    "\n",
    "Consider a family with two children. Assume that the probability of females and males being born is equal, i.e. $p(F)=0.5$ and $p(M)=0.5$. Remember that \"given\" means your calculation is conditioned on some already fixed data or outcome. \n",
    "\n",
    "1) What is the probability of one male and one female **GIVEN** that the first child is male. \n",
    "\n",
    "2) What is the probability of two females **GIVEN** that at least one child is female.\n",
    "\n",
    "3) What is the probability of two females **GIVEN** that the older child is female.\n",
    "\n",
    "You will find it easiest to answer these questions by sketching a \"tree diagram\" to visualize the options for the oldest child, and the branching options for the youngest child. \n",
    "\n",
    "Either write your solution as Markdown/Latex below, or paste in a scanned image of your handwritten solution."
   ]
  },
  {
   "cell_type": "markdown",
   "metadata": {},
   "source": [
    "### Solution"
   ]
  },
  {
   "cell_type": "markdown",
   "metadata": {},
   "source": [
    "1. Since we know that the first child is male, we only need to calculate the probability of whether the second child is female, which is 1/2 (options are BG or BB)\n",
    "\n",
    "2. Since we know that at least one child has to be female, this eliminates the two boy scenario (BB) and only leaves us with the BG, GB, and GG scenarios. The probability of 2 females is then 1/3\n",
    "\n",
    "3. Since we know that the older child is female, we only need to calculate the probability of whether the second is female, which is 1/2 (options are GB or GG)"
   ]
  },
  {
   "cell_type": "markdown",
   "metadata": {},
   "source": [
    "## Problem 2\n",
    "\n",
    "The data in hw3_populations.txt (source: scipy-lectures.org) describes the populations of hares and lynxes (and carrots) in northern Canada during 20 years:\n",
    "\n",
    "\n",
    "create a Python script to\n",
    "\n",
    "1. plot hw3_populations.txt (using matlab)\n",
    "\n",
    "\n",
    "2. calculate and output:\n",
    "\n",
    "    a) The mean, median and std of the populations of each species for the years in the period.\n",
    "    \n",
    "    b) The year each species had the largest population.\n",
    "    \n",
    "    c) The species that has the largest population for each year. (Hint: argsort & fancy indexing of np.array(['H', 'L', 'C']))\n",
    "    \n",
    "    d) The years were any of the populations is above 50000. (Hint: comparisons and np.any)\n",
    "    \n",
    "    e) The top 2 years for each species when they had the lowest populations. (Hint: argsort, fancy indexing)\n",
    "    \n",
    "    f) Compare (plot) the change in hare population (see help(np.gradient)) and the number of lynxes. Check correlation (see help(np.corrcoef)).\n",
    "\n"
   ]
  },
  {
   "cell_type": "markdown",
   "metadata": {},
   "source": [
    "### Solution\n",
    "\n"
   ]
  },
  {
   "cell_type": "code",
   "execution_count": 49,
   "metadata": {},
   "outputs": [
    {
     "data": {
      "image/png": "[encoded data removed]",
      "text/plain": [
       "<Figure size 432x288 with 1 Axes>"
      ]
     },
     "metadata": {
      "needs_background": "light"
     },
     "output_type": "display_data"
    }
   ],
   "source": [
    "import numpy as np\n",
    "import matplotlib.pyplot as plt\n",
    "\n",
    "data = np.loadtxt('../homework_notebooks/hw3_populations.txt')\n",
    "year, hare, lynx, carrot = data.T\n",
    "plt.axes([0.2, 0.1, 0.5, 0.8])\n",
    "plt.plot(year, hare, year, lynx, year, carrot)\n",
    "plt.legend(('Hare', 'Lynx', 'Carrot'), loc='best')\n",
    "plt.show()"
   ]
  },
  {
   "cell_type": "code",
   "execution_count": 4,
   "metadata": {},
   "outputs": [
    {
     "name": "stdout",
     "output_type": "stream",
     "text": [
      "The mean of the population of hares is  34080.95238095238\n",
      "The mean of the population of lynxes is  20166.666666666668\n",
      "The mean of the population of carrots is  42400.0\n"
     ]
    }
   ],
   "source": [
    "meanHare = np.mean(hare)\n",
    "print('The mean of the population of hares is', meanHare)\n",
    "meanLynx = np.mean(lynx)\n",
    "print('The mean of the population of lynxes is', meanLynx)\n",
    "meanCarrot = np.mean(carrot)\n",
    "print('The mean of the population of carrots is', meanCarrot)"
   ]
  },
  {
   "cell_type": "code",
   "execution_count": 14,
   "metadata": {},
   "outputs": [
    {
     "name": "stdout",
     "output_type": "stream",
     "text": [
      "The median of the population of hares is 25400.0\n",
      "The median of the population of lynxes is 12300.0\n",
      "The median of the population of carrots is 41800.0\n"
     ]
    }
   ],
   "source": [
    "medianHare = np.median(hare)\n",
    "print('The median of the population of hares is', medianHare)\n",
    "medianLynx = np.median(lynx)\n",
    "print('The median of the population of lynxes is', medianLynx)\n",
    "medianCarrot = np.median(carrot)\n",
    "print('The median of the population of carrots is', medianCarrot)"
   ]
  },
  {
   "cell_type": "code",
   "execution_count": 13,
   "metadata": {},
   "outputs": [
    {
     "name": "stdout",
     "output_type": "stream",
     "text": [
      "The standard deviation of the population of hares is 20897.906458089667\n",
      "The standard deviation of the population of lynxes is 16254.591536908763\n",
      "The standard deviation of the population of carrots is 3322.5062255844787\n"
     ]
    }
   ],
   "source": [
    "stdHare = np.std(hare)\n",
    "print('The standard deviation of the population of hares is', stdHare)\n",
    "stdLynx = np.std(lynx)\n",
    "print('The standard deviation of the population of lynxes is', stdLynx)\n",
    "stdCarrot = np.std(carrot)\n",
    "print('The standard deviation of the population of carrots is', stdCarrot)"
   ]
  },
  {
   "cell_type": "code",
   "execution_count": 12,
   "metadata": {},
   "outputs": [
    {
     "name": "stdout",
     "output_type": "stream",
     "text": [
      "The max population of hares is 77400.0 which corresponds to the year 1903\n",
      "The max population of lynxes is 59400.0 which corresponds to the year 1904\n",
      "The max population of carrots is 48300.0 which corresponds to the year 1900\n"
     ]
    }
   ],
   "source": [
    "maxHare = np.max(hare)\n",
    "print('The max population of hares is', maxHare, 'which corresponds to the year 1903')\n",
    "maxLynx = np.max(lynx)\n",
    "print('The max population of lynxes is', maxLynx, 'which corresponds to the year 1904')\n",
    "maxCarrot = np.max(carrot)\n",
    "print('The max population of carrots is', maxCarrot, 'which corresponds to the year 1900')"
   ]
  },
  {
   "cell_type": "code",
   "execution_count": 30,
   "metadata": {},
   "outputs": [
    {
     "name": "stdout",
     "output_type": "stream",
     "text": [
      "[1900. 1901. 1902. 1903. 1904. 1905. 1906. 1907. 1908. 1909. 1910. 1911.\n",
      " 1912. 1913. 1914. 1915. 1916. 1917. 1918. 1919. 1920.] ['carrot' 'carrot' 'hare' 'hare' 'lynx' 'lynx' 'carrot' 'carrot' 'carrot'\n",
      " 'carrot' 'carrot' 'carrot' 'hare' 'hare' 'hare' 'lynx' 'carrot' 'carrot'\n",
      " 'carrot' 'carrot' 'carrot']\n",
      "\n",
      "The species with the largest population in 1900 is carrot\n",
      "The species with the largest population in 1901 is carrot\n",
      "The species with the largest population in 1902 is hare\n",
      "The species with the largest population in 1903 is hare\n",
      "The species with the largest population in 1904 is lynx\n",
      "The species with the largest population in 1905 is lynx\n",
      "The species with the largest population in 1906 is carrot\n",
      "The species with the largest population in 1907 is carrot\n",
      "The species with the largest population in 1908 is carrot\n",
      "The species with the largest population in 1909 is carrot\n",
      "The species with the largest population in 1910 is carrot\n",
      "The species with the largest population in 1911 is carrot\n",
      "The species with the largest population in 1912 is hare\n",
      "The species with the largest population in 1913 is hare\n",
      "The species with the largest population in 1914 is hare\n",
      "The species with the largest population in 1915 is lynx\n",
      "The species with the largest population in 1916 is carrot\n",
      "The species with the largest population in 1917 is carrot\n",
      "The species with the largest population in 1918 is carrot\n",
      "The species with the largest population in 1919 is carrot\n",
      "The species with the largest population in 1920 is carrot\n"
     ]
    }
   ],
   "source": [
    "populations = data[:, 1:]\n",
    "species = ['hare', 'lynx', 'carrot']\n",
    "print(year, np.take(species, np.argmax(populations, axis=1)))\n",
    "print()\n",
    "print('The species with the largest population in 1900 is carrot')\n",
    "print('The species with the largest population in 1901 is carrot')\n",
    "print('The species with the largest population in 1902 is hare')\n",
    "print('The species with the largest population in 1903 is hare')\n",
    "print('The species with the largest population in 1904 is lynx')\n",
    "print('The species with the largest population in 1905 is lynx')\n",
    "print('The species with the largest population in 1906 is carrot')\n",
    "print('The species with the largest population in 1907 is carrot')\n",
    "print('The species with the largest population in 1908 is carrot')\n",
    "print('The species with the largest population in 1909 is carrot')\n",
    "print('The species with the largest population in 1910 is carrot')\n",
    "print('The species with the largest population in 1911 is carrot')\n",
    "print('The species with the largest population in 1912 is hare')\n",
    "print('The species with the largest population in 1913 is hare')\n",
    "print('The species with the largest population in 1914 is hare')\n",
    "print('The species with the largest population in 1915 is lynx')\n",
    "print('The species with the largest population in 1916 is carrot')\n",
    "print('The species with the largest population in 1917 is carrot')\n",
    "print('The species with the largest population in 1918 is carrot')\n",
    "print('The species with the largest population in 1919 is carrot')\n",
    "print('The species with the largest population in 1920 is carrot')"
   ]
  },
  {
   "cell_type": "code",
   "execution_count": 34,
   "metadata": {},
   "outputs": [
    {
     "name": "stdout",
     "output_type": "stream",
     "text": [
      "The years any population was above 50000 is [1902. 1903. 1904. 1912. 1913. 1914. 1915.]\n"
     ]
    }
   ],
   "source": [
    "greater5000 = year[np.any(populations > 50000, axis=1)]\n",
    "print('The years any population was above 50000 is', greater5000)"
   ]
  },
  {
   "cell_type": "code",
   "execution_count": 37,
   "metadata": {},
   "outputs": [
    {
     "name": "stdout",
     "output_type": "stream",
     "text": [
      "[[1917. 1900. 1916.]\n",
      " [1916. 1901. 1903.]]\n",
      "\n",
      "The two years of low population for hares were 1916 and 1917\n",
      "The two years of low population for lynxes were 1900 and 1901\n",
      "The two years of low population for carrots were 1903 and 1916\n"
     ]
    }
   ],
   "source": [
    "lowpops = year[np.argsort(populations, axis=0)[:2]]\n",
    "print(lowpops)\n",
    "print()\n",
    "print('The two years of low population for hares were 1916 and 1917')\n",
    "print('The two years of low population for lynxes were 1900 and 1901')\n",
    "print('The two years of low population for carrots were 1903 and 1916')"
   ]
  },
  {
   "cell_type": "code",
   "execution_count": 48,
   "metadata": {},
   "outputs": [
    {
     "name": "stdout",
     "output_type": "stream",
     "text": [
      "The correlation between change of hare population and number of lynxes is\n",
      "[[ 1.         -0.91792485]\n",
      " [-0.91792485  1.        ]]\n"
     ]
    },
    {
     "data": {
      "image/png": "[encoded data removed]",
      "text/plain": [
       "<Figure size 432x288 with 1 Axes>"
      ]
     },
     "metadata": {
      "needs_background": "light"
     },
     "output_type": "display_data"
    }
   ],
   "source": [
    "plt.plot(year, lynx, 'orange', year, np.gradient(hare), 'blue')\n",
    "plt.legend(['lynx', 'change(hare)'], loc='best')\n",
    "plt.show\n",
    "print('The correlation between change of hare population and number of lynxes is')\n",
    "print(np.corrcoef(lynx, np.gradient(hare)))"
   ]
  }
 ],
 "metadata": {
  "anaconda-cloud": {},
  "kernelspec": {
   "display_name": "Python [conda env:astr3890] *",
   "language": "python",
   "name": "conda-env-astr3890-py"
  },
  "language_info": {
   "codemirror_mode": {
    "name": "ipython",
    "version": 3
   },
   "file_extension": ".py",
   "mimetype": "text/x-python",
   "name": "python",
   "nbconvert_exporter": "python",
   "pygments_lexer": "ipython3",
   "version": "3.8.12"
  }
 },
 "nbformat": 4,
 "nbformat_minor": 2
}
